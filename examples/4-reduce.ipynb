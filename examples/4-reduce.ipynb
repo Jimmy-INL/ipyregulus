{
 "cells": [
  {
   "cell_type": "code",
   "execution_count": 1,
   "metadata": {},
   "outputs": [],
   "source": [
    "import ipywidgets as widgets\n",
    "from traitlets import HasTraits\n",
    "from sidepanel import SidePanel\n",
    "\n",
    "import regulus\n",
    "from regulus import HasTree, SimplifiedTree\n",
    "from ipyregulus import TreeView, TreeWidget, AttrFilter, Trigger, BaseTreeView\n",
    "from ipyregulus.alg.view import reduced_tree"
   ]
  },
  {
   "cell_type": "code",
   "execution_count": 2,
   "metadata": {},
   "outputs": [],
   "source": [
    "gauss = regulus.load('gauss4')"
   ]
  },
  {
   "cell_type": "code",
   "execution_count": 3,
   "metadata": {},
   "outputs": [
    {
     "data": {
      "application/vnd.jupyter.widget-view+json": {
       "model_id": "75ae28d8e7a7493082f34fbee9835b6f",
       "version_major": 2,
       "version_minor": 0
      },
      "text/plain": [
       "TreeView(children=(HBox(children=(Dropdown(description='Attribute:', index=1, options=('span', 'fitness', 'par…"
      ]
     },
     "metadata": {},
     "output_type": "display_data"
    }
   ],
   "source": [
    "original_tree = TreeView(gauss)\n",
    "original_tree"
   ]
  },
  {
   "cell_type": "markdown",
   "metadata": {},
   "source": [
    "- Note that the filter only hide some of the nodes. It doesn't change the structure of the tree"
   ]
  },
  {
   "cell_type": "markdown",
   "metadata": {},
   "source": [
    "#### Tree Reduction"
   ]
  },
  {
   "cell_type": "markdown",
   "metadata": {},
   "source": [
    "- SimplifiedTree return a tree container (HasTree) that will be updated when either the src tree or the filter are modified\n",
    "- The src tree is not modified"
   ]
  },
  {
   "cell_type": "code",
   "execution_count": 10,
   "metadata": {},
   "outputs": [],
   "source": [
    "simpler = SimplifiedTree(gauss, AttrFilter(attr='span'))"
   ]
  },
  {
   "cell_type": "code",
   "execution_count": 11,
   "metadata": {},
   "outputs": [],
   "source": [
    "simpler_view = TreeView(tree=simpler)"
   ]
  },
  {
   "cell_type": "code",
   "execution_count": 12,
   "metadata": {},
   "outputs": [
    {
     "data": {
      "application/vnd.jupyter.widget-view+json": {
       "model_id": "29f7ebcf6b7f4de0b8424a11d6058a43",
       "version_major": 2,
       "version_minor": 0
      },
      "text/plain": [
       "TreeView(children=(HBox(children=(Dropdown(description='Attribute:', index=1, options=('span', 'fitness', 'par…"
      ]
     },
     "metadata": {},
     "output_type": "display_data"
    }
   ],
   "source": [
    "simpler_view"
   ]
  },
  {
   "cell_type": "markdown",
   "metadata": {},
   "source": [
    "- Let's modify the tree using the reduction filter"
   ]
  },
  {
   "cell_type": "code",
   "execution_count": 13,
   "metadata": {},
   "outputs": [
    {
     "data": {
      "application/vnd.jupyter.widget-view+json": {
       "model_id": "331d43ac11224b41962e51e47c1fa56b",
       "version_major": 2,
       "version_minor": 0
      },
      "text/plain": [
       "AttrFilter(children=(Label(value='span'), FloatSlider(value=0.0, max=1.0, step=0.01)))"
      ]
     },
     "metadata": {},
     "output_type": "display_data"
    }
   ],
   "source": [
    "simpler.filter"
   ]
  },
  {
   "cell_type": "markdown",
   "metadata": {},
   "source": [
    "- Modifying the filter given to SimplifyTree will update the simpler container with tree with less nodes\n",
    "- Note that the fitness filter in the TreeView only hide/show the nodes in the new tree. It doesn't not remove nodes or alter the structure  of the tree"
   ]
  },
  {
   "cell_type": "markdown",
   "metadata": {},
   "source": [
    "#### We can have multiple idepended views that show the same reduced tree"
   ]
  },
  {
   "cell_type": "code",
   "execution_count": 16,
   "metadata": {},
   "outputs": [
    {
     "data": {
      "application/vnd.jupyter.widget-view+json": {
       "model_id": "d137450aff814fac8376ab2771913f08",
       "version_major": 2,
       "version_minor": 0
      },
      "text/plain": [
       "TreeView(children=(HBox(children=(Dropdown(description='Attribute:', index=2, options=('span', 'fitness', 'par…"
      ]
     },
     "metadata": {},
     "output_type": "display_data"
    }
   ],
   "source": [
    "simpler_view2 = TreeView(simpler, attr='parent_fitness') \n",
    "simpler_view2"
   ]
  }
 ],
 "metadata": {
  "kernelspec": {
   "display_name": "Python 3",
   "language": "python",
   "name": "python3"
  },
  "language_info": {
   "codemirror_mode": {
    "name": "ipython",
    "version": 3
   },
   "file_extension": ".py",
   "mimetype": "text/x-python",
   "name": "python",
   "nbconvert_exporter": "python",
   "pygments_lexer": "ipython3",
   "version": "3.7.3"
  }
 },
 "nbformat": 4,
 "nbformat_minor": 4
}
