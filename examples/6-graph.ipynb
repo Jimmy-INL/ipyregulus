{
 "cells": [
  {
   "cell_type": "code",
   "execution_count": 1,
   "metadata": {},
   "outputs": [],
   "source": [
    "import pandas as pd\n",
    "import math\n",
    "import ipywidgets as widgets\n",
    "\n",
    "from sidepanel import SidePanel\n",
    "\n",
    "import regulus\n",
    "from ipyregulus import GraphView, AxesCtrl, TreeView, ProjectionView, AttrFilter\n",
    "from ipyregulus.core.axis import Axis\n",
    "from ipyregulus.utils import *"
   ]
  },
  {
   "cell_type": "markdown",
   "metadata": {},
   "source": [
    "### Data"
   ]
  },
  {
   "cell_type": "code",
   "execution_count": 2,
   "metadata": {},
   "outputs": [],
   "source": [
    "name = 'gauss4'\n",
    "data = regulus.load(name)"
   ]
  },
  {
   "cell_type": "code",
   "execution_count": null,
   "metadata": {},
   "outputs": [],
   "source": []
  },
  {
   "cell_type": "code",
   "execution_count": 3,
   "metadata": {},
   "outputs": [],
   "source": [
    "simplified = regulus.SimplifiedTree(data.tree, AttrFilter(attr='span'))"
   ]
  },
  {
   "cell_type": "code",
   "execution_count": 13,
   "metadata": {},
   "outputs": [],
   "source": [
    "simplified.filter.value = -1"
   ]
  },
  {
   "cell_type": "markdown",
   "metadata": {},
   "source": [
    "## Graph View"
   ]
  },
  {
   "cell_type": "code",
   "execution_count": 4,
   "metadata": {},
   "outputs": [],
   "source": [
    "g = GraphView(tree=simplified)\n",
    "g.color = 'z'\n",
    "gp = SidePanel((g, 'graph'), title='GraphView')"
   ]
  },
  {
   "cell_type": "markdown",
   "metadata": {},
   "source": [
    "#### Control axis size "
   ]
  },
  {
   "cell_type": "code",
   "execution_count": 5,
   "metadata": {},
   "outputs": [
    {
     "data": {
      "application/vnd.jupyter.widget-view+json": {
       "model_id": "88ec48000b5f40658b4c6a98b4adf7cc",
       "version_major": 2,
       "version_minor": 0
      },
      "text/plain": [
       "AxesCtrl(children=(UnboundedFloatSlider(value=200.0, description='x', max=200.0), UnboundedFloatSlider(value=2…"
      ]
     },
     "metadata": {},
     "output_type": "display_data"
    }
   ],
   "source": [
    "ctrl = AxesCtrl()\n",
    "widgets.link((g, 'axes'), (ctrl, 'axes'))\n",
    "ctrl"
   ]
  },
  {
   "cell_type": "markdown",
   "metadata": {},
   "source": [
    "#### ... or add to the Graph Panel"
   ]
  },
  {
   "cell_type": "code",
   "execution_count": 6,
   "metadata": {},
   "outputs": [],
   "source": [
    "gp.add(ctrl, header='Axes', expand=False)"
   ]
  },
  {
   "cell_type": "markdown",
   "metadata": {},
   "source": [
    "### Tree View"
   ]
  },
  {
   "cell_type": "code",
   "execution_count": 7,
   "metadata": {},
   "outputs": [],
   "source": [
    "tv = TreeView(simplified)\n",
    "tp = SidePanel([(tv, 'tree'), (simplified.filter, 'Simplify')], title='TreeView')\n",
    "widgets.link((tv.view, 'details'), (g,'show'));"
   ]
  },
  {
   "cell_type": "markdown",
   "metadata": {},
   "source": [
    "#### _Select partitions_ "
   ]
  },
  {
   "cell_type": "markdown",
   "metadata": {},
   "source": [
    "### Let's select all partitions at a givin persistence"
   ]
  },
  {
   "cell_type": "code",
   "execution_count": 8,
   "metadata": {},
   "outputs": [],
   "source": [
    "def at_persistence(v):\n",
    "    g.show = [ p.id for p in data.tree.at_persistence(v)]"
   ]
  },
  {
   "cell_type": "code",
   "execution_count": 9,
   "metadata": {},
   "outputs": [],
   "source": [
    "ps = widgets.FloatSlider(min=0, max=1, step=0.001, value=0.5)"
   ]
  },
  {
   "cell_type": "code",
   "execution_count": 10,
   "metadata": {},
   "outputs": [
    {
     "data": {
      "application/vnd.jupyter.widget-view+json": {
       "model_id": "640cea3ac29a4767bcff3c9e4a319797",
       "version_major": 2,
       "version_minor": 0
      },
      "text/plain": [
       "interactive(children=(FloatSlider(value=0.5, description='v', max=1.0, step=0.001), Output()), _dom_classes=('…"
      ]
     },
     "metadata": {},
     "output_type": "display_data"
    }
   ],
   "source": [
    "widgets.interact(at_persistence, v=ps);"
   ]
  },
  {
   "cell_type": "markdown",
   "metadata": {},
   "source": [
    "#### ... or add the slider to the Graph Panel"
   ]
  },
  {
   "cell_type": "code",
   "execution_count": 11,
   "metadata": {},
   "outputs": [],
   "source": [
    "gp.add(ps, header='Persistence', expand=False)"
   ]
  },
  {
   "cell_type": "markdown",
   "metadata": {},
   "source": [
    "## Project the points in the selected partitions"
   ]
  },
  {
   "cell_type": "code",
   "execution_count": 12,
   "metadata": {},
   "outputs": [],
   "source": [
    "pr = ProjectionView(data.tree)\n",
    "prp = SidePanel((pr, 'Projection'), title='ProjectionView', side='split-bottom', ref='TreeView')\n",
    "widgets.link((g, 'show'), (pr, 'show'));"
   ]
  },
  {
   "cell_type": "code",
   "execution_count": 13,
   "metadata": {},
   "outputs": [],
   "source": [
    "pr.color = 'z'"
   ]
  },
  {
   "cell_type": "markdown",
   "metadata": {},
   "source": [
    "#### Coordiante the axes of the Graph and Projection views"
   ]
  },
  {
   "cell_type": "code",
   "execution_count": 14,
   "metadata": {},
   "outputs": [],
   "source": [
    "widgets.link((g, 'axes'), (pr, 'axes'));"
   ]
  },
  {
   "cell_type": "markdown",
   "metadata": {},
   "source": [
    "### set color based on the pt's partition "
   ]
  },
  {
   "cell_type": "code",
   "execution_count": 14,
   "metadata": {},
   "outputs": [],
   "source": [
    "def partition_color(pv):\n",
    "    tree = pv.tree\n",
    "    partitions = tree.find_partitions(pv.show)\n",
    "    \n",
    "    def in_partition(idx):\n",
    "        for p in partitions:\n",
    "            if idx in p.idx:\n",
    "                return p.id\n",
    "        return -1\n",
    "    \n",
    "    colors = list(map(in_partition, pv._index))\n",
    "    return colors"
   ]
  },
  {
   "cell_type": "code",
   "execution_count": 15,
   "metadata": {},
   "outputs": [],
   "source": [
    "pr.color = partition_color"
   ]
  },
  {
   "cell_type": "code",
   "execution_count": 35,
   "metadata": {},
   "outputs": [
    {
     "data": {
      "text/html": [
       "<div>\n",
       "<style scoped>\n",
       "    .dataframe tbody tr th:only-of-type {\n",
       "        vertical-align: middle;\n",
       "    }\n",
       "\n",
       "    .dataframe tbody tr th {\n",
       "        vertical-align: top;\n",
       "    }\n",
       "\n",
       "    .dataframe thead th {\n",
       "        text-align: right;\n",
       "    }\n",
       "</style>\n",
       "<table border=\"1\" class=\"dataframe\">\n",
       "  <thead>\n",
       "    <tr style=\"text-align: right;\">\n",
       "      <th></th>\n",
       "      <th>x</th>\n",
       "      <th>y</th>\n",
       "      <th>z</th>\n",
       "    </tr>\n",
       "  </thead>\n",
       "  <tbody>\n",
       "    <tr>\n",
       "      <th>0</th>\n",
       "      <td>0.938932</td>\n",
       "      <td>1.138623</td>\n",
       "      <td>0.614712</td>\n",
       "    </tr>\n",
       "    <tr>\n",
       "      <th>1</th>\n",
       "      <td>1.568838</td>\n",
       "      <td>1.597687</td>\n",
       "      <td>0.011168</td>\n",
       "    </tr>\n",
       "    <tr>\n",
       "      <th>2</th>\n",
       "      <td>1.217589</td>\n",
       "      <td>-0.109086</td>\n",
       "      <td>0.800305</td>\n",
       "    </tr>\n",
       "    <tr>\n",
       "      <th>3</th>\n",
       "      <td>0.636956</td>\n",
       "      <td>-1.727877</td>\n",
       "      <td>0.325892</td>\n",
       "    </tr>\n",
       "    <tr>\n",
       "      <th>4</th>\n",
       "      <td>-0.511846</td>\n",
       "      <td>0.853337</td>\n",
       "      <td>0.529962</td>\n",
       "    </tr>\n",
       "    <tr>\n",
       "      <th>5</th>\n",
       "      <td>0.006145</td>\n",
       "      <td>1.613801</td>\n",
       "      <td>0.292530</td>\n",
       "    </tr>\n",
       "    <tr>\n",
       "      <th>6</th>\n",
       "      <td>0.572005</td>\n",
       "      <td>-0.317035</td>\n",
       "      <td>0.511714</td>\n",
       "    </tr>\n",
       "    <tr>\n",
       "      <th>7</th>\n",
       "      <td>1.532263</td>\n",
       "      <td>0.462720</td>\n",
       "      <td>0.140347</td>\n",
       "    </tr>\n",
       "    <tr>\n",
       "      <th>8</th>\n",
       "      <td>0.872752</td>\n",
       "      <td>-0.905804</td>\n",
       "      <td>0.567934</td>\n",
       "    </tr>\n",
       "    <tr>\n",
       "      <th>9</th>\n",
       "      <td>-1.403087</td>\n",
       "      <td>0.432865</td>\n",
       "      <td>0.502102</td>\n",
       "    </tr>\n",
       "    <tr>\n",
       "      <th>10</th>\n",
       "      <td>-0.802528</td>\n",
       "      <td>0.979488</td>\n",
       "      <td>0.657421</td>\n",
       "    </tr>\n",
       "    <tr>\n",
       "      <th>11</th>\n",
       "      <td>1.598470</td>\n",
       "      <td>-1.077130</td>\n",
       "      <td>0.472095</td>\n",
       "    </tr>\n",
       "    <tr>\n",
       "      <th>12</th>\n",
       "      <td>1.591973</td>\n",
       "      <td>1.344250</td>\n",
       "      <td>0.224596</td>\n",
       "    </tr>\n",
       "    <tr>\n",
       "      <th>13</th>\n",
       "      <td>0.401812</td>\n",
       "      <td>-0.300679</td>\n",
       "      <td>0.551882</td>\n",
       "    </tr>\n",
       "    <tr>\n",
       "      <th>14</th>\n",
       "      <td>1.249490</td>\n",
       "      <td>-0.991153</td>\n",
       "      <td>0.881668</td>\n",
       "    </tr>\n",
       "    <tr>\n",
       "      <th>15</th>\n",
       "      <td>-0.782935</td>\n",
       "      <td>1.089112</td>\n",
       "      <td>0.894628</td>\n",
       "    </tr>\n",
       "    <tr>\n",
       "      <th>16</th>\n",
       "      <td>0.711999</td>\n",
       "      <td>0.378024</td>\n",
       "      <td>0.227206</td>\n",
       "    </tr>\n",
       "    <tr>\n",
       "      <th>17</th>\n",
       "      <td>-0.978737</td>\n",
       "      <td>-1.277145</td>\n",
       "      <td>0.896740</td>\n",
       "    </tr>\n",
       "    <tr>\n",
       "      <th>18</th>\n",
       "      <td>-0.351441</td>\n",
       "      <td>-0.727133</td>\n",
       "      <td>0.920427</td>\n",
       "    </tr>\n",
       "    <tr>\n",
       "      <th>19</th>\n",
       "      <td>-1.120984</td>\n",
       "      <td>-1.518094</td>\n",
       "      <td>0.777806</td>\n",
       "    </tr>\n",
       "    <tr>\n",
       "      <th>20</th>\n",
       "      <td>1.392352</td>\n",
       "      <td>-0.611115</td>\n",
       "      <td>0.573589</td>\n",
       "    </tr>\n",
       "    <tr>\n",
       "      <th>21</th>\n",
       "      <td>-0.956946</td>\n",
       "      <td>-0.849638</td>\n",
       "      <td>0.987290</td>\n",
       "    </tr>\n",
       "    <tr>\n",
       "      <th>22</th>\n",
       "      <td>0.704502</td>\n",
       "      <td>-1.393973</td>\n",
       "      <td>0.442240</td>\n",
       "    </tr>\n",
       "    <tr>\n",
       "      <th>23</th>\n",
       "      <td>-0.971482</td>\n",
       "      <td>1.594330</td>\n",
       "      <td>0.492112</td>\n",
       "    </tr>\n",
       "    <tr>\n",
       "      <th>24</th>\n",
       "      <td>1.393544</td>\n",
       "      <td>0.614413</td>\n",
       "      <td>0.179660</td>\n",
       "    </tr>\n",
       "    <tr>\n",
       "      <th>25</th>\n",
       "      <td>1.547283</td>\n",
       "      <td>-1.578602</td>\n",
       "      <td>0.305805</td>\n",
       "    </tr>\n",
       "    <tr>\n",
       "      <th>26</th>\n",
       "      <td>-1.499185</td>\n",
       "      <td>1.605617</td>\n",
       "      <td>0.329808</td>\n",
       "    </tr>\n",
       "    <tr>\n",
       "      <th>27</th>\n",
       "      <td>1.204172</td>\n",
       "      <td>-0.200471</td>\n",
       "      <td>0.856755</td>\n",
       "    </tr>\n",
       "    <tr>\n",
       "      <th>28</th>\n",
       "      <td>0.109322</td>\n",
       "      <td>-0.033710</td>\n",
       "      <td>0.553428</td>\n",
       "    </tr>\n",
       "    <tr>\n",
       "      <th>29</th>\n",
       "      <td>-0.241172</td>\n",
       "      <td>0.111309</td>\n",
       "      <td>0.633852</td>\n",
       "    </tr>\n",
       "    <tr>\n",
       "      <th>...</th>\n",
       "      <td>...</td>\n",
       "      <td>...</td>\n",
       "      <td>...</td>\n",
       "    </tr>\n",
       "    <tr>\n",
       "      <th>1970</th>\n",
       "      <td>-1.561397</td>\n",
       "      <td>0.396818</td>\n",
       "      <td>0.450443</td>\n",
       "    </tr>\n",
       "    <tr>\n",
       "      <th>1971</th>\n",
       "      <td>0.632206</td>\n",
       "      <td>1.203126</td>\n",
       "      <td>0.597181</td>\n",
       "    </tr>\n",
       "    <tr>\n",
       "      <th>1972</th>\n",
       "      <td>1.498171</td>\n",
       "      <td>1.301106</td>\n",
       "      <td>0.341727</td>\n",
       "    </tr>\n",
       "    <tr>\n",
       "      <th>1973</th>\n",
       "      <td>0.387634</td>\n",
       "      <td>-0.589924</td>\n",
       "      <td>0.632107</td>\n",
       "    </tr>\n",
       "    <tr>\n",
       "      <th>1974</th>\n",
       "      <td>-1.483121</td>\n",
       "      <td>0.231265</td>\n",
       "      <td>0.536295</td>\n",
       "    </tr>\n",
       "    <tr>\n",
       "      <th>1975</th>\n",
       "      <td>1.210183</td>\n",
       "      <td>-1.553568</td>\n",
       "      <td>0.785421</td>\n",
       "    </tr>\n",
       "    <tr>\n",
       "      <th>1976</th>\n",
       "      <td>0.448361</td>\n",
       "      <td>1.206419</td>\n",
       "      <td>0.640233</td>\n",
       "    </tr>\n",
       "    <tr>\n",
       "      <th>1977</th>\n",
       "      <td>-0.091515</td>\n",
       "      <td>1.227937</td>\n",
       "      <td>0.810584</td>\n",
       "    </tr>\n",
       "    <tr>\n",
       "      <th>1978</th>\n",
       "      <td>-0.858033</td>\n",
       "      <td>-0.831951</td>\n",
       "      <td>0.997632</td>\n",
       "    </tr>\n",
       "    <tr>\n",
       "      <th>1979</th>\n",
       "      <td>1.454493</td>\n",
       "      <td>1.375486</td>\n",
       "      <td>0.186260</td>\n",
       "    </tr>\n",
       "    <tr>\n",
       "      <th>1980</th>\n",
       "      <td>-0.728590</td>\n",
       "      <td>0.393467</td>\n",
       "      <td>0.649741</td>\n",
       "    </tr>\n",
       "    <tr>\n",
       "      <th>1981</th>\n",
       "      <td>-1.431409</td>\n",
       "      <td>-1.685518</td>\n",
       "      <td>0.608093</td>\n",
       "    </tr>\n",
       "    <tr>\n",
       "      <th>1982</th>\n",
       "      <td>1.270270</td>\n",
       "      <td>0.210249</td>\n",
       "      <td>0.558825</td>\n",
       "    </tr>\n",
       "    <tr>\n",
       "      <th>1983</th>\n",
       "      <td>-1.108197</td>\n",
       "      <td>-0.152206</td>\n",
       "      <td>0.811139</td>\n",
       "    </tr>\n",
       "    <tr>\n",
       "      <th>1984</th>\n",
       "      <td>-0.091639</td>\n",
       "      <td>-0.497855</td>\n",
       "      <td>0.790566</td>\n",
       "    </tr>\n",
       "    <tr>\n",
       "      <th>1985</th>\n",
       "      <td>-1.496747</td>\n",
       "      <td>-1.187215</td>\n",
       "      <td>0.765268</td>\n",
       "    </tr>\n",
       "    <tr>\n",
       "      <th>1986</th>\n",
       "      <td>-0.739152</td>\n",
       "      <td>0.664163</td>\n",
       "      <td>0.581554</td>\n",
       "    </tr>\n",
       "    <tr>\n",
       "      <th>1987</th>\n",
       "      <td>0.898134</td>\n",
       "      <td>-0.559019</td>\n",
       "      <td>0.563792</td>\n",
       "    </tr>\n",
       "    <tr>\n",
       "      <th>1988</th>\n",
       "      <td>0.785871</td>\n",
       "      <td>-1.338087</td>\n",
       "      <td>0.452025</td>\n",
       "    </tr>\n",
       "    <tr>\n",
       "      <th>1989</th>\n",
       "      <td>0.563150</td>\n",
       "      <td>0.292804</td>\n",
       "      <td>0.285759</td>\n",
       "    </tr>\n",
       "    <tr>\n",
       "      <th>1990</th>\n",
       "      <td>1.160994</td>\n",
       "      <td>-0.433567</td>\n",
       "      <td>0.965834</td>\n",
       "    </tr>\n",
       "    <tr>\n",
       "      <th>1991</th>\n",
       "      <td>1.320649</td>\n",
       "      <td>1.178904</td>\n",
       "      <td>0.738195</td>\n",
       "    </tr>\n",
       "    <tr>\n",
       "      <th>1992</th>\n",
       "      <td>-1.146522</td>\n",
       "      <td>-0.897559</td>\n",
       "      <td>0.944417</td>\n",
       "    </tr>\n",
       "    <tr>\n",
       "      <th>1993</th>\n",
       "      <td>0.696113</td>\n",
       "      <td>-0.312522</td>\n",
       "      <td>0.484140</td>\n",
       "    </tr>\n",
       "    <tr>\n",
       "      <th>1994</th>\n",
       "      <td>-1.304267</td>\n",
       "      <td>1.163389</td>\n",
       "      <td>0.911432</td>\n",
       "    </tr>\n",
       "    <tr>\n",
       "      <th>1995</th>\n",
       "      <td>-1.666619</td>\n",
       "      <td>-1.026086</td>\n",
       "      <td>0.736534</td>\n",
       "    </tr>\n",
       "    <tr>\n",
       "      <th>1996</th>\n",
       "      <td>-1.532811</td>\n",
       "      <td>1.114245</td>\n",
       "      <td>0.759252</td>\n",
       "    </tr>\n",
       "    <tr>\n",
       "      <th>1997</th>\n",
       "      <td>1.230825</td>\n",
       "      <td>0.923115</td>\n",
       "      <td>0.530977</td>\n",
       "    </tr>\n",
       "    <tr>\n",
       "      <th>1998</th>\n",
       "      <td>0.624912</td>\n",
       "      <td>-1.276307</td>\n",
       "      <td>0.499630</td>\n",
       "    </tr>\n",
       "    <tr>\n",
       "      <th>1999</th>\n",
       "      <td>-0.164437</td>\n",
       "      <td>1.624798</td>\n",
       "      <td>0.359583</td>\n",
       "    </tr>\n",
       "  </tbody>\n",
       "</table>\n",
       "<p>2000 rows × 3 columns</p>\n",
       "</div>"
      ],
      "text/plain": [
       "             x         y         z\n",
       "0     0.938932  1.138623  0.614712\n",
       "1     1.568838  1.597687  0.011168\n",
       "2     1.217589 -0.109086  0.800305\n",
       "3     0.636956 -1.727877  0.325892\n",
       "4    -0.511846  0.853337  0.529962\n",
       "...        ...       ...       ...\n",
       "1995 -1.666619 -1.026086  0.736534\n",
       "1996 -1.532811  1.114245  0.759252\n",
       "1997  1.230825  0.923115  0.530977\n",
       "1998  0.624912 -1.276307  0.499630\n",
       "1999 -0.164437  1.624798  0.359583\n",
       "\n",
       "[2000 rows x 3 columns]"
      ]
     },
     "execution_count": 35,
     "metadata": {},
     "output_type": "execute_result"
    }
   ],
   "source": [
    "pd.merge(left=data.pts.x, right=data.pts.values, left_index=True, right_index=True)"
   ]
  },
  {
   "cell_type": "code",
   "execution_count": null,
   "metadata": {},
   "outputs": [],
   "source": []
  }
 ],
 "metadata": {
  "kernelspec": {
   "display_name": "Python 3",
   "language": "python",
   "name": "python3"
  },
  "language_info": {
   "codemirror_mode": {
    "name": "ipython",
    "version": 3
   },
   "file_extension": ".py",
   "mimetype": "text/x-python",
   "name": "python",
   "nbconvert_exporter": "python",
   "pygments_lexer": "ipython3",
   "version": "3.7.3"
  }
 },
 "nbformat": 4,
 "nbformat_minor": 4
}
