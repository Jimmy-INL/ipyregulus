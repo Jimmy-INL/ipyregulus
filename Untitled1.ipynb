{
 "cells": [
  {
   "cell_type": "code",
   "execution_count": 2,
   "metadata": {},
   "outputs": [],
   "source": [
    "import pandas as pd\n",
    "import ipypivot as pt"
   ]
  },
  {
   "cell_type": "code",
   "execution_count": 3,
   "metadata": {},
   "outputs": [
    {
     "data": {
      "application/vnd.jupyter.widget-view+json": {
       "model_id": "35d37e9a082b432e8af0ad55bb242f6c",
       "version_major": 2,
       "version_minor": 0
      },
      "text/plain": [
       "Pivot()"
      ]
     },
     "metadata": {},
     "output_type": "display_data"
    }
   ],
   "source": [
    "df = pt.samples.df_tips\n",
    "dic = {\n",
    "    'sumOverSum': '$.pivotUtilities.aggregators[\"Sum over Sum\"]',\n",
    "    'heatmap': '$.pivotUtilities.renderers[\"Heatmap\"]'    \n",
    "}\n",
    "\n",
    "p = pt.Pivot(df_data=df)\n",
    "opts = p.options\n",
    "opts.rows = ['sex', 'smoker']\n",
    "opts.cols = ['day', 'time']\n",
    "opts.vals = ['tip', 'total_bill']\n",
    "opts.aggregator  = '{sumOverSum}([\"tip\", \"total_bill\"])'.format(**dic)\n",
    "opts.renderer = '{heatmap}'.format(**dic)\n",
    "\n",
    "p"
   ]
  },
  {
   "cell_type": "code",
   "execution_count": null,
   "metadata": {},
   "outputs": [],
   "source": []
  }
 ],
 "metadata": {
  "kernelspec": {
   "display_name": "Python 3",
   "language": "python",
   "name": "python3"
  },
  "language_info": {
   "codemirror_mode": {
    "name": "ipython",
    "version": 3
   },
   "file_extension": ".py",
   "mimetype": "text/x-python",
   "name": "python",
   "nbconvert_exporter": "python",
   "pygments_lexer": "ipython3",
   "version": "3.6.6"
  }
 },
 "nbformat": 4,
 "nbformat_minor": 2
}
