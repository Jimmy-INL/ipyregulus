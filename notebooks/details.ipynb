{
 "cells": [
  {
   "cell_type": "code",
   "execution_count": 1,
   "metadata": {},
   "outputs": [],
   "source": [
    "from ipywidgets import FloatSlider, ValueWidget\n",
    "\n",
    "from sidepanel import SidePanel\n",
    "\n",
    "from regulus.utils import io\n",
    "from regulus.topo import * \n",
    "from regulus.alg import *\n",
    "from regulus.measures import *\n",
    "from regulus.models import *\n",
    "from regulus.tree import *\n",
    "\n",
    "from ipyregulus import TreeWidget, TreeView, DetailsView, DataWidget\n",
    "from ipyregulus.filters import * \n"
   ]
  },
  {
   "cell_type": "code",
   "execution_count": 2,
   "metadata": {},
   "outputs": [],
   "source": [
    "gauss = io.load('data/gauss4.p')\n",
    "gauss.add_attr('linear', node_model(linear_model))\n",
    "gauss.add_attr('fitness', fitness)\n",
    "gauss.add_attr('relative_fitness', relative_fitness)\n",
    "gauss.tree.add_attr('parent_fitness', parent_fitness)\n",
    "gauss.tree.add_attr('child_fitness', child_fitness)\n",
    "gauss.tree.add_attr('size', node_size)\n",
    "gauss.tree.add_attr('rel_size', node_relative_size)\n",
    "gauss.tree.add_attr('span', node_span)"
   ]
  },
  {
   "cell_type": "code",
   "execution_count": 3,
   "metadata": {},
   "outputs": [
    {
     "data": {
      "application/vnd.jupyter.widget-view+json": {
       "model_id": "31711dbfa4994a7aa5f129b27cfc2861",
       "version_major": 2,
       "version_minor": 0
      },
      "text/plain": [
       "Output()"
      ]
     },
     "metadata": {},
     "output_type": "display_data"
    }
   ],
   "source": [
    "from ipywidgets import Output\n",
    "debug_view = Output(title='debug')\n",
    "debug_view"
   ]
  },
  {
   "cell_type": "markdown",
   "metadata": {},
   "source": [
    "### Data widget"
   ]
  },
  {
   "cell_type": "code",
   "execution_count": 4,
   "metadata": {},
   "outputs": [],
   "source": [
    "data = DataWidget(data=gauss)"
   ]
  },
  {
   "cell_type": "code",
   "execution_count": 5,
   "metadata": {},
   "outputs": [],
   "source": [
    "details = DetailsView(data=data)"
   ]
  },
  {
   "cell_type": "code",
   "execution_count": 6,
   "metadata": {},
   "outputs": [],
   "source": [
    "p2 = SidePanel(title='details')\n",
    "with p2:\n",
    "    display(details)"
   ]
  },
  {
   "cell_type": "code",
   "execution_count": 7,
   "metadata": {},
   "outputs": [],
   "source": [
    "details.show = [i for i in range(0, 5)]"
   ]
  },
  {
   "cell_type": "code",
   "execution_count": 8,
   "metadata": {},
   "outputs": [
    {
     "data": {
      "text/plain": [
       "'z'"
      ]
     },
     "execution_count": 8,
     "metadata": {},
     "output_type": "execute_result"
    }
   ],
   "source": [
    "data.measure"
   ]
  },
  {
   "cell_type": "code",
   "execution_count": null,
   "metadata": {},
   "outputs": [],
   "source": []
  }
 ],
 "metadata": {
  "kernelspec": {
   "display_name": "Python 3",
   "language": "python",
   "name": "python3"
  },
  "language_info": {
   "codemirror_mode": {
    "name": "ipython",
    "version": 3
   },
   "file_extension": ".py",
   "mimetype": "text/x-python",
   "name": "python",
   "nbconvert_exporter": "python",
   "pygments_lexer": "ipython3",
   "version": "3.6.6"
  }
 },
 "nbformat": 4,
 "nbformat_minor": 2
}
