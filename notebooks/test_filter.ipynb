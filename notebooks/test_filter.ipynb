{
 "cells": [
  {
   "cell_type": "code",
   "execution_count": 77,
   "metadata": {},
   "outputs": [],
   "source": [
    "from regulus.utils import io\n",
    "from regulus.topo import * \n",
    "from regulus.alg import *\n",
    "from regulus.measures.linear import *\n",
    "from regulus.models import *\n",
    "from regulus.tree import *\n",
    "\n",
    "from ipyregulus import Select\n",
    "from ipyregulus import TreeWidget, TreeView\n",
    "from ipyregulus import SidePanel\n",
    "from ipywidgets import interact, interactive, FloatSlider"
   ]
  },
  {
   "cell_type": "code",
   "execution_count": 78,
   "metadata": {},
   "outputs": [],
   "source": [
    "gauss = io.load('data/gauss4.p')\n",
    "gauss.add_attr('linear', node_model(linear_model))\n",
    "gauss.add_attr('fitness', fitness)\n",
    "gauss.add_attr('relative_fitness', relative_fitness)\n",
    "gauss.tree.add_attr('parent_fitness', parent_fitness)\n",
    "gauss.tree.add_attr('child_fitness', child_fitness)"
   ]
  },
  {
   "cell_type": "code",
   "execution_count": 79,
   "metadata": {},
   "outputs": [],
   "source": [
    "t1 = gauss.tree"
   ]
  },
  {
   "cell_type": "code",
   "execution_count": 80,
   "metadata": {},
   "outputs": [],
   "source": [
    "w1 = TreeWidget(model=t1, select=lambda n: {\n",
    "    'start': n.data.persistence, \n",
    "    'len': n.data.size()/2000,\n",
    "    'range': n.parent.data.persistence - n.data.persistence,\n",
    "    'end': n.parent.data.persistence\n",
    "})"
   ]
  },
  {
   "cell_type": "code",
   "execution_count": 81,
   "metadata": {},
   "outputs": [],
   "source": [
    "v1 = TreeView(title='First Tree', measure='range', tree=w1)"
   ]
  },
  {
   "cell_type": "code",
   "execution_count": 82,
   "metadata": {},
   "outputs": [],
   "source": [
    "def filter_tree(view, func):\n",
    "    def wrapper(value):\n",
    "        view.hide = filter(view.tree.model, lambda n: func(view.tree.model,n,value))\n",
    "    return wrapper"
   ]
  },
  {
   "cell_type": "code",
   "execution_count": 83,
   "metadata": {},
   "outputs": [],
   "source": [
    "s1 = interactive(filter_tree(v1, lambda t,n,v: t.attr['fitness'][n]<=v),\n",
    "        value=FloatSlider(description='fitness', min=0, max=1, step=0.01))"
   ]
  },
  {
   "cell_type": "code",
   "execution_count": 84,
   "metadata": {},
   "outputs": [],
   "source": [
    "p1 = SidePanel(title='Filter test 1')\n",
    "with p1:\n",
    "    display(v1,s1)"
   ]
  },
  {
   "cell_type": "code",
   "execution_count": 85,
   "metadata": {},
   "outputs": [],
   "source": [
    "v1.measure = 'fitness'"
   ]
  },
  {
   "cell_type": "code",
   "execution_count": 100,
   "metadata": {},
   "outputs": [],
   "source": [
    "debug_view = SidePanel(title='debug')"
   ]
  },
  {
   "cell_type": "code",
   "execution_count": 131,
   "metadata": {},
   "outputs": [],
   "source": [
    "class Select(HasTraits):\n",
    "    def __init__(self, view, name, func, control):\n",
    "        view = Instance(klass=TreeView)\n",
    "        name = Unicode()\n",
    "        func = I\n",
    "        self.filter = func\n",
    "        self.name = name\n",
    "        self.attr = view.tree.model.attr[name]\n",
    "        self.control = control\n",
    "        self.control.description = name\n",
    "        self.control.observe(self.update, names='value')\n",
    "        \n",
    "    def \n",
    "        \n",
    "    @debug_view.capture(clear_output=True)\n",
    "    def update(self, change):\n",
    "        self.view.hide = filter(self.view.tree.model, lambda n: self.filter(self.attr[n], change['new']))"
   ]
  },
  {
   "cell_type": "code",
   "execution_count": 132,
   "metadata": {},
   "outputs": [],
   "source": [
    "s = Select(v1, 'fitness', lambda a,v: a<=v, FloatSlider(min=0, max=1, step=0.01))"
   ]
  },
  {
   "cell_type": "code",
   "execution_count": 133,
   "metadata": {},
   "outputs": [
    {
     "data": {
      "application/vnd.jupyter.widget-view+json": {
       "model_id": "e69367d9c3104f7da16bfa7abcf2ec8d",
       "version_major": 2,
       "version_minor": 0
      },
      "text/plain": [
       "FloatSlider(value=0.0, description='fitness', max=1.0, step=0.01)"
      ]
     },
     "metadata": {},
     "output_type": "display_data"
    }
   ],
   "source": [
    "s.control"
   ]
  },
  {
   "cell_type": "code",
   "execution_count": null,
   "metadata": {},
   "outputs": [],
   "source": []
  }
 ],
 "metadata": {
  "kernelspec": {
   "display_name": "Python 3",
   "language": "python",
   "name": "python3"
  },
  "language_info": {
   "codemirror_mode": {
    "name": "ipython",
    "version": 3
   },
   "file_extension": ".py",
   "mimetype": "text/x-python",
   "name": "python",
   "nbconvert_exporter": "python",
   "pygments_lexer": "ipython3",
   "version": "3.6.6"
  }
 },
 "nbformat": 4,
 "nbformat_minor": 2
}
