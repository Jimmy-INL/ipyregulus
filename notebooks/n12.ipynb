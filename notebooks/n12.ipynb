{
 "cells": [
  {
   "cell_type": "code",
   "execution_count": 1,
   "metadata": {},
   "outputs": [],
   "source": [
    "import plotly.plotly as py\n",
    "import plotly.graph_objs as go\n",
    "\n",
    "import numpy as np\n",
    "import pandas as pd\n",
    "\n",
    "from regulus.utils import io"
   ]
  },
  {
   "cell_type": "code",
   "execution_count": 2,
   "metadata": {},
   "outputs": [],
   "source": [
    "import sklearn.linear_model as lm\n",
    "from sklearn.linear_model import  LinearRegression, Ridge\n",
    "from sklearn.metrics import mean_squared_error\n",
    "from sklearn.preprocessing import PolynomialFeatures\n",
    "from sklearn.pipeline import make_pipeline"
   ]
  },
  {
   "cell_type": "code",
   "execution_count": 3,
   "metadata": {},
   "outputs": [],
   "source": [
    "layout = go.Layout(\n",
    "    title='Node data',\n",
    "    autosize=False,\n",
    "    width=600,\n",
    "    height=600,\n",
    "    margin=dict(\n",
    "        l=65,\n",
    "        r=50,\n",
    "        b=65,\n",
    "        t=90\n",
    "    )\n",
    ")"
   ]
  },
  {
   "cell_type": "code",
   "execution_count": 4,
   "metadata": {},
   "outputs": [],
   "source": [
    "gauss = io.load('data/gauss4_mc')"
   ]
  },
  {
   "cell_type": "code",
   "execution_count": 5,
   "metadata": {},
   "outputs": [],
   "source": [
    "node_id = 12\n",
    "node = gauss.tree.find(lambda _,n: n.id == node_id)\n",
    "data = node.data.x.copy()\n",
    "data['z'] = node.data.y"
   ]
  },
  {
   "cell_type": "code",
   "execution_count": 6,
   "metadata": {},
   "outputs": [],
   "source": [
    "# n12 = pd.read_csv('data/n12.csv')"
   ]
  },
  {
   "cell_type": "code",
   "execution_count": 7,
   "metadata": {},
   "outputs": [],
   "source": [
    "scaled = data*[10,10,1]"
   ]
  },
  {
   "cell_type": "code",
   "execution_count": 8,
   "metadata": {},
   "outputs": [],
   "source": [
    "data_pts = go.Scatter3d(\n",
    "        x = data['x'],\n",
    "        y = data['y'],\n",
    "        z = data['z'],\n",
    "        mode='markers',\n",
    "        marker=dict(\n",
    "            size=2,\n",
    "            color='blue',\n",
    "            opacity=0.8\n",
    "        )\n",
    "    )"
   ]
  },
  {
   "cell_type": "code",
   "execution_count": 9,
   "metadata": {},
   "outputs": [],
   "source": [
    "scaled_pts = go.Scatter3d(\n",
    "        x = scaled['x'],\n",
    "        y = scaled['y'],\n",
    "        z = scaled['z'],\n",
    "        mode='markers',\n",
    "        marker=dict(\n",
    "            size=2,\n",
    "            color='blue',\n",
    "            opacity=0.8\n",
    "        )\n",
    "    )"
   ]
  },
  {
   "cell_type": "code",
   "execution_count": 10,
   "metadata": {},
   "outputs": [
    {
     "data": {
      "text/plain": [
       "0.7234462500000001"
      ]
     },
     "execution_count": 10,
     "metadata": {},
     "output_type": "execute_result"
    }
   ],
   "source": [
    "z75 = data.quantile(q=0.75, axis=0)['z']\n",
    "z75"
   ]
  },
  {
   "cell_type": "code",
   "execution_count": 11,
   "metadata": {},
   "outputs": [],
   "source": [
    "top = data[data['z'] > z75]"
   ]
  },
  {
   "cell_type": "code",
   "execution_count": 12,
   "metadata": {},
   "outputs": [],
   "source": [
    "top_pts = go.Scatter3d(\n",
    "        x = top['x'],\n",
    "        y = top['y'],\n",
    "        z = top['z'],\n",
    "        mode='markers',\n",
    "        marker=dict(\n",
    "            size=2,\n",
    "            line=dict(\n",
    "                color='red',\n",
    "                width=0.5\n",
    "            ),\n",
    "            opacity=0.8\n",
    "        )\n",
    "    )\n",
    "    "
   ]
  },
  {
   "cell_type": "code",
   "execution_count": 13,
   "metadata": {},
   "outputs": [
    {
     "data": {
      "application/vnd.jupyter.widget-view+json": {
       "model_id": "53f19d2f2c3e48d6a387f2ea632c8d97",
       "version_major": 2,
       "version_minor": 0
      },
      "text/plain": [
       "FigureWidget({\n",
       "    'data': [{'marker': {'line': {'color': 'red', 'width': 0.5}, 'opacity': 0.8, 'size': 2},\n",
       "  …"
      ]
     },
     "metadata": {},
     "output_type": "display_data"
    }
   ],
   "source": [
    "go.FigureWidget(data=[top_pts], layout=layout)"
   ]
  },
  {
   "cell_type": "code",
   "execution_count": 14,
   "metadata": {},
   "outputs": [
    {
     "data": {
      "application/vnd.jupyter.widget-view+json": {
       "model_id": "275c08036db74dbf9d3e0cb5d241bd1f",
       "version_major": 2,
       "version_minor": 0
      },
      "text/plain": [
       "FigureWidget({\n",
       "    'data': [{'marker': {'color': 'blue', 'opacity': 0.8, 'size': 2},\n",
       "              'mode': 'ma…"
      ]
     },
     "metadata": {},
     "output_type": "display_data"
    }
   ],
   "source": [
    "go.FigureWidget(data=[data_pts], layout=layout)"
   ]
  },
  {
   "cell_type": "code",
   "execution_count": 15,
   "metadata": {},
   "outputs": [],
   "source": [
    "# mesh_3d = np.append(mesh, v.reshape(nx*ny,1), 1)"
   ]
  },
  {
   "cell_type": "code",
   "execution_count": 16,
   "metadata": {},
   "outputs": [],
   "source": [
    "# mesh_pts = go.Scatter3d(\n",
    "#         x = mesh_3d[:,0],\n",
    "#         y = mesh_3d[:,1],\n",
    "#         z = mesh_3d[:,2],\n",
    "#         mode='markers',\n",
    "#         marker=dict(\n",
    "#             size=2\n",
    "#         )\n",
    "#     )"
   ]
  },
  {
   "cell_type": "code",
   "execution_count": 17,
   "metadata": {},
   "outputs": [],
   "source": [
    "nx = 20\n",
    "ny = 10"
   ]
  },
  {
   "cell_type": "code",
   "execution_count": 18,
   "metadata": {},
   "outputs": [],
   "source": [
    "def compute(degree, regression, scale='RdBu', pts=data):\n",
    "    model = make_pipeline(PolynomialFeatures(degree), regression)\n",
    "    model.fit(pts[['x', 'y']], pts['z'])\n",
    "    print('score', model.score(pts[['x', 'y']], pts['z']), \n",
    "          'mse:', mean_squared_error(model.predict(pts[['x', 'y']]), pts['z']))\n",
    "\n",
    "    sx = np.linspace( pts['x'].min(), pts['x'].max(), nx)\n",
    "    sy = np.linspace( pts['y'].min(), pts['y'].max(), ny)\n",
    "    m = np.array(np.meshgrid(sx, sy))\n",
    "    mesh = m.T.reshape(-1,2)\n",
    "    v = model.predict(mesh)\n",
    "    z = v.reshape(nx, ny).T\n",
    "    return go.Surface(x=sx, y=sy, z=z, colorscale=scale)"
   ]
  },
  {
   "cell_type": "code",
   "execution_count": 19,
   "metadata": {},
   "outputs": [
    {
     "name": "stdout",
     "output_type": "stream",
     "text": [
      "score 0.8679409828033153 mse: 0.007751879366744974\n",
      "score 0.7882038688301366 mse: 0.012432457048554293\n"
     ]
    },
    {
     "data": {
      "application/vnd.jupyter.widget-view+json": {
       "model_id": "e0821b26f662458aa0de2694fed4d316",
       "version_major": 2,
       "version_minor": 0
      },
      "text/plain": [
       "FigureWidget({\n",
       "    'data': [{'marker': {'color': 'blue', 'opacity': 0.8, 'size': 2},\n",
       "              'mode': 'ma…"
      ]
     },
     "metadata": {},
     "output_type": "display_data"
    }
   ],
   "source": [
    "go.FigureWidget(data=\n",
    "    [\n",
    "        data_pts, \n",
    "        compute(3, LinearRegression()),\n",
    "#         compute(2, LinearRegression(), pts=top),\n",
    "#         compute(3, LinearRegression()),\n",
    "#         compute(4, LinearRegression()),\n",
    "#         compute(2, Ridge(alpha=1)),\n",
    "        compute(3, lm.TheilSenRegressor(random_state=42), scale='YlGnBu'),\n",
    "#         compute(2, lm.RANSACRegressor(random_state=42), scale='greens'),\n",
    "#         compute(2, lm.HuberRegressor(), scale='YlGnBu'),\n",
    "#         compute(2, Ridge(alpha=10)),\n",
    "#         compute(2, lm.Lars(normalize=False), scale='YlGnBu'),\n",
    "#         compute(2, lm.RidgeCV(), scale='Blues')\n",
    "    ], layout=layout)"
   ]
  },
  {
   "cell_type": "code",
   "execution_count": 20,
   "metadata": {},
   "outputs": [
    {
     "name": "stdout",
     "output_type": "stream",
     "text": [
      "score 0.7538324455227685 mse: 0.014450063515708387\n"
     ]
    },
    {
     "data": {
      "application/vnd.jupyter.widget-view+json": {
       "model_id": "1ef7251a669f4719a4f027eb304529f3",
       "version_major": 2,
       "version_minor": 0
      },
      "text/plain": [
       "FigureWidget({\n",
       "    'data': [{'marker': {'color': 'blue', 'opacity': 0.8, 'size': 2},\n",
       "              'mode': 'ma…"
      ]
     },
     "metadata": {},
     "output_type": "display_data"
    }
   ],
   "source": [
    "go.FigureWidget(data=\n",
    "    [\n",
    "        data_pts, \n",
    "#         compute(2, Ridge(alpha=10)),\n",
    "        compute(2, Ridge(alpha=0)),\n",
    "    ], layout=layout)"
   ]
  },
  {
   "cell_type": "code",
   "execution_count": 21,
   "metadata": {},
   "outputs": [
    {
     "name": "stdout",
     "output_type": "stream",
     "text": [
      "score 0.728430093490169 mse: 0.01594118447638478\n",
      "score 0.7538324455227683 mse: 0.014450063515708393\n"
     ]
    },
    {
     "data": {
      "application/vnd.jupyter.widget-view+json": {
       "model_id": "c042b19e61324c23a098eb7ee9fff97f",
       "version_major": 2,
       "version_minor": 0
      },
      "text/plain": [
       "FigureWidget({\n",
       "    'data': [{'marker': {'color': 'blue', 'opacity': 0.8, 'size': 2},\n",
       "              'mode': 'ma…"
      ]
     },
     "metadata": {},
     "output_type": "display_data"
    }
   ],
   "source": [
    "go.FigureWidget(data=\n",
    "    [\n",
    "        scaled_pts, \n",
    "        compute(2, Ridge(alpha=10), pts=scaled),\n",
    "        compute(2, Ridge(alpha=0), pts=scaled),\n",
    "    ], layout=layout)"
   ]
  },
  {
   "cell_type": "code",
   "execution_count": null,
   "metadata": {},
   "outputs": [],
   "source": []
  },
  {
   "cell_type": "code",
   "execution_count": null,
   "metadata": {},
   "outputs": [],
   "source": []
  },
  {
   "cell_type": "code",
   "execution_count": null,
   "metadata": {},
   "outputs": [],
   "source": []
  }
 ],
 "metadata": {
  "kernelspec": {
   "display_name": "Python 3",
   "language": "python",
   "name": "python3"
  },
  "language_info": {
   "codemirror_mode": {
    "name": "ipython",
    "version": 3
   },
   "file_extension": ".py",
   "mimetype": "text/x-python",
   "name": "python",
   "nbconvert_exporter": "python",
   "pygments_lexer": "ipython3",
   "version": "3.6.7"
  }
 },
 "nbformat": 4,
 "nbformat_minor": 2
}
