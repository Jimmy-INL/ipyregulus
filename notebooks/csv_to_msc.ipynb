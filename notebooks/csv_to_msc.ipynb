{
 "cells": [
  {
   "cell_type": "code",
   "execution_count": 1,
   "metadata": {},
   "outputs": [],
   "source": [
    "from regulus.data.data import Data\n",
    "from regulus.topo.morse import morse_smale\n",
    "from regulus.utils import io\n",
    "# from regulus.topo import Regulus\n",
    "from regulus.measures import *\n",
    "from regulus.models import *\n",
    "from time import process_time"
   ]
  },
  {
   "cell_type": "code",
   "execution_count": 13,
   "metadata": {},
   "outputs": [],
   "source": [
    "def process(filename, **kwargs):\n",
    "    t_start = process_time()\n",
    "    parms = {}\n",
    "    for name in ['ndims', 'measure']:\n",
    "        parms[name] = kwargs.pop(name, None)\n",
    "        \n",
    "    pts = Data.read_csv(f'{filename}.csv', **parms)\n",
    "    t_read = process_time()\n",
    "    \n",
    "    pts.normalize()\n",
    "    regulus = morse_smale(pts, **kwargs)\n",
    "    t_msc = process_time()\n",
    "    \n",
    "    regulus.add_attr('linear', linear_model)\n",
    "    regulus.add_attr('fitness', fitness)\n",
    "    regulus.add_attr('relative_fitness', relative_fitness)\n",
    "\n",
    "    regulus.tree.add_attr('parent_fitness', parent_fitness)\n",
    "    regulus.tree.add_attr('child_fitness', child_fitness)\n",
    "    regulus.tree.add_attr('size', node_size)\n",
    "    regulus.tree.add_attr('rel_size', node_relative_size)\n",
    "    regulus.tree.add_attr('span', node_span)\n",
    "    \n",
    "    io.save(regulus, filename=f'{filename}.p')\n",
    "    t_end = process_time()\n",
    "    print(f'time: {t_end - t_start:.3} read:{t_read-t_start:.3} msc:{t_msc-t_read:.3}  save:{t_end-t_msc:.3}')"
   ]
  },
  {
   "cell_type": "code",
   "execution_count": 14,
   "metadata": {},
   "outputs": [
    {
     "name": "stdout",
     "output_type": "stream",
     "text": [
      "found 13 singles\n",
      "len(idx)= 1996\n",
      "time: 0.191 read:0.0109 msc:0.177  save:0.00337\n"
     ]
    },
    {
     "name": "stderr",
     "output_type": "stream",
     "text": [
      "/Users/yarden/miniconda3/envs/neup/lib/python3.7/site-packages/numpy-1.15.1-py3.7-macosx-10.7-x86_64.egg/numpy/core/fromnumeric.py:51: FutureWarning: 'argmin' is deprecated, use 'idxmin' instead. The behavior of 'argmin'\n",
      "will be corrected to return the positional minimum in the future.\n",
      "Use 'series.values.argmin' to get the position of the minimum now.\n",
      "  return getattr(obj, method)(*args, **kwds)\n",
      "/Users/yarden/miniconda3/envs/neup/lib/python3.7/site-packages/numpy-1.15.1-py3.7-macosx-10.7-x86_64.egg/numpy/core/fromnumeric.py:51: FutureWarning: 'argmax' is deprecated, use 'idxmax' instead. The behavior of 'argmax'\n",
      "will be corrected to return the positional maximum in the future.\n",
      "Use 'series.values.argmax' to get the position of the maximum now.\n",
      "  return getattr(obj, method)(*args, **kwds)\n"
     ]
    }
   ],
   "source": [
    "process('data/gauss4', knn=8)"
   ]
  },
  {
   "cell_type": "code",
   "execution_count": 15,
   "metadata": {},
   "outputs": [
    {
     "name": "stdout",
     "output_type": "stream",
     "text": [
      "found 4 singles\n",
      "len(idx)= 11498\n",
      "time: 21.2 read:0.0606 msc:21.1  save:0.00391\n"
     ]
    },
    {
     "name": "stderr",
     "output_type": "stream",
     "text": [
      "/Users/yarden/miniconda3/envs/neup/lib/python3.7/site-packages/numpy-1.15.1-py3.7-macosx-10.7-x86_64.egg/numpy/core/fromnumeric.py:51: FutureWarning: 'argmin' is deprecated, use 'idxmin' instead. The behavior of 'argmin'\n",
      "will be corrected to return the positional minimum in the future.\n",
      "Use 'series.values.argmin' to get the position of the minimum now.\n",
      "  return getattr(obj, method)(*args, **kwds)\n",
      "/Users/yarden/miniconda3/envs/neup/lib/python3.7/site-packages/numpy-1.15.1-py3.7-macosx-10.7-x86_64.egg/numpy/core/fromnumeric.py:51: FutureWarning: 'argmax' is deprecated, use 'idxmax' instead. The behavior of 'argmax'\n",
      "will be corrected to return the positional maximum in the future.\n",
      "Use 'series.values.argmax' to get the position of the maximum now.\n",
      "  return getattr(obj, method)(*args, **kwds)\n"
     ]
    }
   ],
   "source": [
    "process('data/simulations', ndims=6, measure='Pu', knn=500)"
   ]
  },
  {
   "cell_type": "code",
   "execution_count": null,
   "metadata": {},
   "outputs": [],
   "source": []
  }
 ],
 "metadata": {
  "kernelspec": {
   "display_name": "Python 3",
   "language": "python",
   "name": "python3"
  },
  "language_info": {
   "codemirror_mode": {
    "name": "ipython",
    "version": 3
   },
   "file_extension": ".py",
   "mimetype": "text/x-python",
   "name": "python",
   "nbconvert_exporter": "python",
   "pygments_lexer": "ipython3",
   "version": "3.7.0"
  }
 },
 "nbformat": 4,
 "nbformat_minor": 2
}
