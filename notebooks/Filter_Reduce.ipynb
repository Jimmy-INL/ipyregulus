{
 "cells": [
  {
   "cell_type": "code",
   "execution_count": 1,
   "metadata": {},
   "outputs": [],
   "source": [
    "from regulus.utils import io\n",
    "from regulus.topo import * \n",
    "from regulus.alg import *\n",
    "from regulus.measures import *\n",
    "from regulus.models import *\n",
    "from regulus.tree import *\n",
    "\n",
    "from ipyregulus import TreeWidget, TreeView\n",
    "from ipyregulus import SidePanel\n",
    "from ipyregulus import TreeAttrFilter, TreeAttrReduce\n",
    "from ipywidgets import FloatSlider"
   ]
  },
  {
   "cell_type": "code",
   "execution_count": 2,
   "metadata": {},
   "outputs": [],
   "source": [
    "gauss = io.load('data/gauss4.p')\n",
    "gauss.add_attr('linear', node_model(linear_model))\n",
    "gauss.add_attr('fitness', fitness)\n",
    "gauss.add_attr('relative_fitness', relative_fitness)\n",
    "gauss.tree.add_attr('parent_fitness', parent_fitness)\n",
    "gauss.tree.add_attr('child_fitness', child_fitness)\n",
    "gauss.tree.add_attr('size', node_size)\n",
    "gauss.tree.add_attr('rel_size', node_relative_size)\n",
    "gauss.tree.add_attr('span', node_span)"
   ]
  },
  {
   "cell_type": "code",
   "execution_count": 3,
   "metadata": {},
   "outputs": [
    {
     "data": {
      "application/vnd.jupyter.widget-view+json": {
       "model_id": "077124615da64c5bbbf5045effa7f8a1",
       "version_major": 2,
       "version_minor": 0
      },
      "text/plain": [
       "Output()"
      ]
     },
     "metadata": {},
     "output_type": "display_data"
    }
   ],
   "source": [
    "from ipywidgets import Output\n",
    "debug_view = Output(title='debug')\n",
    "debug_view"
   ]
  },
  {
   "cell_type": "code",
   "execution_count": 4,
   "metadata": {},
   "outputs": [],
   "source": [
    "t1 = gauss.tree"
   ]
  },
  {
   "cell_type": "code",
   "execution_count": 5,
   "metadata": {},
   "outputs": [],
   "source": [
    "w1 = TreeWidget(model=t1)"
   ]
  },
  {
   "cell_type": "code",
   "execution_count": 6,
   "metadata": {},
   "outputs": [],
   "source": [
    "v1 = TreeView(title='First Tree', measure='fitness', tree=w1)"
   ]
  },
  {
   "cell_type": "code",
   "execution_count": 7,
   "metadata": {},
   "outputs": [],
   "source": [
    "f1 = TreeAttrFilter(v1, 'fitness', lambda a,b: a>=b)"
   ]
  },
  {
   "cell_type": "code",
   "execution_count": 8,
   "metadata": {},
   "outputs": [],
   "source": [
    "p1 = SidePanel(title='Filter View')\n",
    "with p1:\n",
    "    display(v1, f1)"
   ]
  },
  {
   "cell_type": "code",
   "execution_count": 12,
   "metadata": {},
   "outputs": [
    {
     "data": {
      "application/vnd.jupyter.widget-view+json": {
       "model_id": "e76459d795364535820681d6d6be955f",
       "version_major": 2,
       "version_minor": 0
      },
      "text/plain": [
       "HBox(children=(Label(value='fitness'), FloatSlider(value=0.0, max=1.0, step=0.01)))"
      ]
     },
     "metadata": {},
     "output_type": "display_data"
    }
   ],
   "source": [
    "r1 = TreeAttrReduce(w1, t1, 'fitness', lambda a,b: a>=b)"
   ]
  },
  {
   "cell_type": "code",
   "execution_count": 9,
   "metadata": {},
   "outputs": [],
   "source": [
    "v1.measure = 'rel_size'"
   ]
  },
  {
   "cell_type": "code",
   "execution_count": 9,
   "metadata": {},
   "outputs": [],
   "source": [
    "v1.measure = 'span'"
   ]
  },
  {
   "cell_type": "code",
   "execution_count": 10,
   "metadata": {},
   "outputs": [],
   "source": [
    "f1.attr = 'span'"
   ]
  },
  {
   "cell_type": "markdown",
   "metadata": {},
   "source": [
    "#### Second tree"
   ]
  },
  {
   "cell_type": "code",
   "execution_count": 13,
   "metadata": {},
   "outputs": [],
   "source": [
    "w2 = TreeWidget(model=t1, select=lambda n: {\n",
    "    'start': n.data.persistence, \n",
    "    'len': n.data.size()/2000,\n",
    "    'range': n.parent.data.persistence - n.data.persistence,\n",
    "    'end': n.parent.data.persistence\n",
    "})\n",
    "v2 = TreeView(title='First Tree', measure='child_fitness', tree=w2)\n",
    "f2 = TreeAttrFilter(v2, 'child_fitness', lambda a,b: a>=b)"
   ]
  },
  {
   "cell_type": "code",
   "execution_count": 14,
   "metadata": {},
   "outputs": [],
   "source": [
    "p2 = SidePanel(title='Second Tree')\n",
    "with p2:\n",
    "    display(v2, f2)"
   ]
  },
  {
   "cell_type": "code",
   "execution_count": 15,
   "metadata": {},
   "outputs": [],
   "source": [
    "v2.measure = 'range'"
   ]
  },
  {
   "cell_type": "code",
   "execution_count": 23,
   "metadata": {},
   "outputs": [],
   "source": [
    "f2.attr = 'range'"
   ]
  },
  {
   "cell_type": "code",
   "execution_count": 24,
   "metadata": {},
   "outputs": [
    {
     "data": {
      "application/vnd.jupyter.widget-view+json": {
       "model_id": "fe45e49efc43482285a510354c10fa9f",
       "version_major": 2,
       "version_minor": 0
      },
      "text/plain": [
       "HBox(children=(Label(value='fitness'), FloatSlider(value=0.0, max=1.0, step=0.01)))"
      ]
     },
     "metadata": {},
     "output_type": "display_data"
    }
   ],
   "source": [
    "r1"
   ]
  },
  {
   "cell_type": "code",
   "execution_count": 25,
   "metadata": {},
   "outputs": [
    {
     "data": {
      "application/vnd.jupyter.widget-view+json": {
       "model_id": "8b9783fd60b74028b9723b98f406d43f",
       "version_major": 2,
       "version_minor": 0
      },
      "text/plain": [
       "TreeView(attrs={'child_fitness': {0: 0, 1: 0.3736597488482618, 2: 0.37957618040967633, 3: 0.43060924037364834,…"
      ]
     },
     "metadata": {},
     "output_type": "display_data"
    }
   ],
   "source": [
    "v2"
   ]
  },
  {
   "cell_type": "code",
   "execution_count": 26,
   "metadata": {},
   "outputs": [
    {
     "data": {
      "application/vnd.jupyter.widget-view+json": {
       "model_id": "96ff22f35bd445cf8a3619fc10964ba1",
       "version_major": 2,
       "version_minor": 0
      },
      "text/plain": [
       "TreeView(attrs={'parent_fitness': {-1: 0, 2: 0, 3: 0.41473077820804394, 4: 0.41997327512455385, 6: 0.731162827…"
      ]
     },
     "metadata": {},
     "output_type": "display_data"
    }
   ],
   "source": [
    "v1"
   ]
  },
  {
   "cell_type": "code",
   "execution_count": null,
   "metadata": {},
   "outputs": [],
   "source": []
  }
 ],
 "metadata": {
  "kernelspec": {
   "display_name": "Python 3",
   "language": "python",
   "name": "python3"
  },
  "language_info": {
   "codemirror_mode": {
    "name": "ipython",
    "version": 3
   },
   "file_extension": ".py",
   "mimetype": "text/x-python",
   "name": "python",
   "nbconvert_exporter": "python",
   "pygments_lexer": "ipython3",
   "version": "3.6.6"
  }
 },
 "nbformat": 4,
 "nbformat_minor": 2
}
