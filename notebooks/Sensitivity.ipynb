{
 "cells": [
  {
   "cell_type": "code",
   "execution_count": 1,
   "metadata": {},
   "outputs": [],
   "source": [
    "from ipywidgets import FloatSlider, ValueWidget, Layout\n",
    "import ipywidgets as widgets\n",
    "\n",
    "from bqplot import OrdinalScale, LinearScale, Bars, Axis, Figure\n",
    "\n",
    "import numpy as np\n",
    "\n",
    "from sidepanel import SidePanel\n",
    "\n",
    "from regulus.utils import io\n",
    "from regulus.topo import * \n",
    "from regulus.alg import *\n",
    "from regulus.measures import *\n",
    "from regulus.models import *\n",
    "from regulus.tree import *\n",
    "\n",
    "from ipyregulus import TreeWidget, TreeView, DataWidget\n",
    "from ipyregulus.sensitivity_view import sensitivity_view\n",
    "from ipyregulus.filters import * \n"
   ]
  },
  {
   "cell_type": "code",
   "execution_count": 2,
   "metadata": {},
   "outputs": [
    {
     "name": "stderr",
     "output_type": "stream",
     "text": [
      "/home/maljovec/anaconda3/envs/regulus/lib/python3.7/site-packages/sklearn/base.py:311: UserWarning: Trying to unpickle estimator StandardScaler from version 0.19.1 when using version 0.19.2. This might lead to breaking code or invalid results. Use at your own risk.\n",
      "  UserWarning)\n"
     ]
    }
   ],
   "source": [
    "data = io.load('data/gauss4')"
   ]
  },
  {
   "cell_type": "markdown",
   "metadata": {},
   "source": [
    "### Helper functions"
   ]
  },
  {
   "cell_type": "markdown",
   "metadata": {},
   "source": [
    "#### view"
   ]
  },
  {
   "cell_type": "code",
   "execution_count": 3,
   "metadata": {},
   "outputs": [],
   "source": [
    "def update_view(view, f):\n",
    "    def _inner():\n",
    "        view.show = filter_tree(view.tree, f)\n",
    "    return _inner "
   ]
  },
  {
   "cell_type": "code",
   "execution_count": 4,
   "metadata": {},
   "outputs": [],
   "source": [
    "def view(data, attr='span', func=lambda x, v: v <= x, title=''):\n",
    "    v = TreeView(data, attr=attr)\n",
    "    f = AttrFilter(attr=attr, func=func)\n",
    "    m = Monitor(f, func=update_view(v, f))\n",
    "    p = SidePanel(title=title)\n",
    "    with p:\n",
    "        display(v,f) \n",
    "    return v, f, p"
   ]
  },
  {
   "cell_type": "markdown",
   "metadata": {},
   "source": [
    "### Initial tree"
   ]
  },
  {
   "cell_type": "code",
   "execution_count": 5,
   "metadata": {},
   "outputs": [],
   "source": [
    "tw = TreeWidget(data.tree)\n",
    "fitness = view(tw, attr='fitness', title='fitness')\n",
    "fitness[0].details = []"
   ]
  },
  {
   "cell_type": "markdown",
   "metadata": {},
   "source": [
    "### Test custom widget"
   ]
  },
  {
   "cell_type": "code",
   "execution_count": null,
   "metadata": {},
   "outputs": [],
   "source": [
    "box_layout = Layout(overflow_y='scroll', overflow='scroll')\n",
    "vbox = widgets.VBox([], Layout=box_layout)\n",
    "\n",
    "p2 = SidePanel(title='Sensitivity')\n",
    "with p2:\n",
    "    display(vbox)\n",
    "    \n",
    "def on_selection_changed(change):\n",
    "    children = []\n",
    "    for node_id in sorted(fitness[0].details):\n",
    "        coefficients = tw.tree.regulus.attr['linear'].values()[node_id].coef_\n",
    "        intercept = tw.tree.regulus.attr['linear'].values()[node_id].intercept_\n",
    "\n",
    "        y_mag = np.max(np.fabs(coefficients))\n",
    "        x_ord = OrdinalScale()\n",
    "        y_sc = LinearScale(min=-y_mag, max=y_mag)\n",
    "        \n",
    "        colors = []\n",
    "        for coefficient in coefficients:\n",
    "            if coefficient < 0:\n",
    "                colors.append('#1f78b4')\n",
    "            else:\n",
    "                colors.append('#a6cee3')\n",
    "\n",
    "        x_labels = ['x{}'.format(x) for x in range(len(coefficients))]\n",
    "        bar = Bars(x=x_labels,\n",
    "                   y=coefficients,\n",
    "                   scales={'x': x_ord, 'y': y_sc},\n",
    "                   type='stacked',\n",
    "                   colors=colors)\n",
    "\n",
    "        ax_x = Axis(scale=x_ord, grid_lines='solid', label='Dimension')\n",
    "        ax_y = Axis(scale=y_sc, orientation='vertical', grid_lines='solid', label='Linear Coefficient')\n",
    "\n",
    "        fig_layout = widgets.Layout(width='auto', height='auto')\n",
    "        fig = Figure(marks=[bar],\n",
    "                     axes=[ax_x, ax_y],\n",
    "                     title='Sensitivity for Node: {}'.format(node_id))\n",
    "\n",
    "        fig.layout.max_width= '200px'\n",
    "        fig.layout.max_height= '200px'\n",
    "        children.append(fig)\n",
    "#         children.append(widgets.Text(str(intercept), disabled=True))\n",
    "        children.append(widgets.HTML(value=\"<hr>\"))\n",
    "    vbox.children = tuple(children)\n",
    "    \n",
    "fitness[0].observe(on_selection_changed, names='details')  "
   ]
  },
  {
   "cell_type": "code",
   "execution_count": null,
   "metadata": {},
   "outputs": [],
   "source": [
    "change = {'new': fitness[0].details}\n",
    "print(fitness[0].details)\n",
    "on_selection_changed(change)"
   ]
  },
  {
   "cell_type": "code",
   "execution_count": 6,
   "metadata": {},
   "outputs": [],
   "source": [
    "sensitivity = sensitivity_view(fitness[0])\n",
    "\n",
    "p2 = SidePanel(title='Sensitivity')\n",
    "with p2:\n",
    "    display(sensitivity)"
   ]
  },
  {
   "cell_type": "code",
   "execution_count": null,
   "metadata": {},
   "outputs": [],
   "source": []
  }
 ],
 "metadata": {
  "kernelspec": {
   "display_name": "Python 3",
   "language": "python",
   "name": "python3"
  },
  "language_info": {
   "codemirror_mode": {
    "name": "ipython",
    "version": 3
   },
   "file_extension": ".py",
   "mimetype": "text/x-python",
   "name": "python",
   "nbconvert_exporter": "python",
   "pygments_lexer": "ipython3",
   "version": "3.7.0"
  }
 },
 "nbformat": 4,
 "nbformat_minor": 2
}
