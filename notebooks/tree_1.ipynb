{
 "cells": [
  {
   "cell_type": "code",
   "execution_count": 33,
   "metadata": {},
   "outputs": [],
   "source": [
    "from regulus.utils import io\n",
    "from regulus.topo import * \n",
    "from regulus.alg import *\n",
    "from regulus.measures.linear import *\n",
    "from regulus.models import *\n",
    "from regulus.tree import *\n",
    "\n",
    "from ipyregulus import TreeWidget, TreeView\n",
    "from ipyregulus import SidePanel\n",
    "from ipywidgets import interact, interactive, FloatSlider"
   ]
  },
  {
   "cell_type": "code",
   "execution_count": 58,
   "metadata": {},
   "outputs": [],
   "source": [
    "gauss = io.load('data/gauss4.p')"
   ]
  },
  {
   "cell_type": "code",
   "execution_count": 68,
   "metadata": {},
   "outputs": [],
   "source": [
    "def select(n):\n",
    "    return { \n",
    "        'start': n.data.persistence,\n",
    "        'life': persistence(n),\n",
    "        'end': n.parent.data.persistence,\n",
    "        'rel_size': n.data.size()/2000.0\n",
    "    }"
   ]
  },
  {
   "cell_type": "markdown",
   "metadata": {},
   "source": [
    "#### Simple Tree View"
   ]
  },
  {
   "cell_type": "code",
   "execution_count": 69,
   "metadata": {},
   "outputs": [],
   "source": [
    "t1 = gauss.tree\n",
    "w1 = TreeWidget(model=t1, select=select)"
   ]
  },
  {
   "cell_type": "code",
   "execution_count": 70,
   "metadata": {},
   "outputs": [
    {
     "data": {
      "application/vnd.jupyter.widget-view+json": {
       "model_id": "75fe9cbc9cfe4524aea951f2c5f13e5c",
       "version_major": 2,
       "version_minor": 0
      },
      "text/plain": [
       "TreeView(field='start', title='First Tree', tree=TreeWidget(root=<regulus.tree.tree.Node object at 0x11a5d6940…"
      ]
     },
     "metadata": {},
     "output_type": "display_data"
    }
   ],
   "source": [
    "v1 = TreeView(title='First Tree', measure='start', tree=w1)\n",
    "v1"
   ]
  },
  {
   "cell_type": "code",
   "execution_count": 71,
   "metadata": {},
   "outputs": [
    {
     "data": {
      "application/vnd.jupyter.widget-view+json": {
       "model_id": "92cdb55670294852855850acc3237401",
       "version_major": 2,
       "version_minor": 0
      },
      "text/plain": [
       "TreeView(field='start', title='Second Tree', tree=TreeWidget(root=<regulus.tree.tree.Node object at 0x11a62b97…"
      ]
     },
     "metadata": {},
     "output_type": "display_data"
    }
   ],
   "source": [
    "t2 = reduce(gauss.tree, filter=lambda n: persistence(n) > 0.2)\n",
    "w2 = TreeWidget(model=t2, select=select)\n",
    "v2 = TreeView(title='Second Tree', measure='start', tree=w2)\n",
    "v2"
   ]
  },
  {
   "cell_type": "markdown",
   "metadata": {},
   "source": [
    "#### Interactive filtering"
   ]
  },
  {
   "cell_type": "code",
   "execution_count": 77,
   "metadata": {},
   "outputs": [],
   "source": [
    "f_persistence = lambda n,v: persistence(n) >= v"
   ]
  },
  {
   "cell_type": "code",
   "execution_count": 78,
   "metadata": {},
   "outputs": [],
   "source": [
    "def update(view, f, v):\n",
    "    view.tree.model = reduce(t1, filter=lambda n: f(n, v))"
   ]
  },
  {
   "cell_type": "code",
   "execution_count": 79,
   "metadata": {},
   "outputs": [
    {
     "data": {
      "application/vnd.jupyter.widget-view+json": {
       "model_id": "c9ee6dc22ae149808e349d65d66374ea",
       "version_major": 2,
       "version_minor": 0
      },
      "text/plain": [
       "interactive(children=(FloatSlider(value=0.0, description='v', max=1.0, step=0.01), Output()), _dom_classes=('w…"
      ]
     },
     "metadata": {},
     "output_type": "display_data"
    }
   ],
   "source": [
    "s1 = interactive(lambda v: update(v1, f_persistence, v), \n",
    "                 v=FloatSlider(min=0, max=1, step=0.01))\n",
    "s1"
   ]
  },
  {
   "cell_type": "code",
   "execution_count": 76,
   "metadata": {},
   "outputs": [],
   "source": [
    "v1.measure = 'life'"
   ]
  },
  {
   "cell_type": "markdown",
   "metadata": {},
   "source": [
    "#### Option 1: Precompute linear models"
   ]
  },
  {
   "cell_type": "code",
   "execution_count": 8,
   "metadata": {},
   "outputs": [],
   "source": [
    "# apply_model('linear', linear_model, gauss)"
   ]
  },
  {
   "cell_type": "markdown",
   "metadata": {},
   "source": [
    "#### Option 2: Lazy computation"
   ]
  },
  {
   "cell_type": "code",
   "execution_count": 9,
   "metadata": {},
   "outputs": [],
   "source": [
    "gauss.attrs['linear'] = model_cache(linear_model)"
   ]
  },
  {
   "cell_type": "markdown",
   "metadata": {},
   "source": [
    "#### Compute linear model fitness"
   ]
  },
  {
   "cell_type": "code",
   "execution_count": 22,
   "metadata": {},
   "outputs": [],
   "source": [
    "apply_measure(fitness, gauss.tree)"
   ]
  },
  {
   "cell_type": "code",
   "execution_count": 23,
   "metadata": {},
   "outputs": [],
   "source": [
    "tv1.measure = 'fitness'"
   ]
  },
  {
   "cell_type": "code",
   "execution_count": 24,
   "metadata": {},
   "outputs": [
    {
     "data": {
      "application/vnd.jupyter.widget-view+json": {
       "model_id": "77c69691493245aa811ed2302bf22782",
       "version_major": 2,
       "version_minor": 0
      },
      "text/plain": [
       "TreeView(attrs={'fitness': {0: 0.3744578217446122, 1: 0.38545663840155336, 2: 0.4154619496518658, 3: 0.4010243…"
      ]
     },
     "metadata": {},
     "output_type": "display_data"
    }
   ],
   "source": [
    "tv1"
   ]
  },
  {
   "cell_type": "code",
   "execution_count": 77,
   "metadata": {},
   "outputs": [],
   "source": [
    "sp1 = SidePanel(title='Panel 1')\n",
    "with sp1:\n",
    "    display(tv, sl)"
   ]
  },
  {
   "cell_type": "code",
   "execution_count": 78,
   "metadata": {},
   "outputs": [],
   "source": [
    "sp2 = SidePanel(title='Panel 2')\n",
    "sl2 = interactive(lambda v: update(tv2, f_persistence, v), v=FloatSlider(min=0, max=1, step=0.01))\n",
    "with sp2:\n",
    "    display(tv2, sl2)"
   ]
  },
  {
   "cell_type": "markdown",
   "metadata": {},
   "source": [
    "#### Change filtering function"
   ]
  },
  {
   "cell_type": "code",
   "execution_count": 84,
   "metadata": {},
   "outputs": [],
   "source": [
    "sl2.f = lambda v: update(tv2, lambda n, v: f_persistence(n, v), v)"
   ]
  },
  {
   "cell_type": "markdown",
   "metadata": {},
   "source": [
    "#### parent measure"
   ]
  },
  {
   "cell_type": "code",
   "execution_count": 42,
   "metadata": {},
   "outputs": [],
   "source": [
    "apply_measure(parent_fitness, tv.tree.model)"
   ]
  },
  {
   "cell_type": "code",
   "execution_count": 43,
   "metadata": {},
   "outputs": [],
   "source": [
    "tv.measure='parent_fitness'"
   ]
  },
  {
   "cell_type": "code",
   "execution_count": 81,
   "metadata": {},
   "outputs": [],
   "source": [
    "def f_fitness(n):\n",
    "    return n.tree.attrs['fitness'][node.ref] > v\n",
    "\n",
    "sl.f = lambda v: update(tv, f_fitness, v)"
   ]
  },
  {
   "cell_type": "code",
   "execution_count": null,
   "metadata": {},
   "outputs": [],
   "source": []
  },
  {
   "cell_type": "markdown",
   "metadata": {},
   "source": [
    "#### Dynamic measures"
   ]
  },
  {
   "cell_type": "code",
   "execution_count": 44,
   "metadata": {},
   "outputs": [],
   "source": [
    "dm = compute_measure(lambda node,local,context: relative_fitness(node, node.parent, local, context), t1)"
   ]
  },
  {
   "cell_type": "code",
   "execution_count": 45,
   "metadata": {},
   "outputs": [],
   "source": [
    "gauss.attrs['dynamic'] = dm"
   ]
  },
  {
   "cell_type": "code",
   "execution_count": 46,
   "metadata": {},
   "outputs": [],
   "source": [
    "tv.measure = 'dynamic'"
   ]
  },
  {
   "cell_type": "code",
   "execution_count": 47,
   "metadata": {},
   "outputs": [
    {
     "data": {
      "text/plain": [
       "{0: 1,\n",
       " 1: 0.37364995823628855,\n",
       " 2: 0.37934852836381072,\n",
       " 3: 0.42919172537575867,\n",
       " 4: 0.42611180627067619,\n",
       " 5: 0.40216429813376686,\n",
       " 6: 0.37993413940046683,\n",
       " 7: 0.40394747675138731,\n",
       " 8: 0.33882616378977271,\n",
       " 9: 0.15194551588544913,\n",
       " 10: -0.014692923297274563,\n",
       " 11: 0.69306395493957829,\n",
       " 12: 0.34964135256134399,\n",
       " 13: 0.31407100711402225,\n",
       " 14: 0.33580793096386308,\n",
       " 15: 0.25549783187930475,\n",
       " 16: -67.173416915213323,\n",
       " 17: 0.38542104343427547,\n",
       " 18: 0.38203528830749139,\n",
       " 19: 0.40489386239652692,\n",
       " 20: 0.39027535721271123,\n",
       " 21: 0.33418319786802797,\n",
       " 22: 0.37237114691119966,\n",
       " 23: 0.36680542887297729,\n",
       " 24: 0.43779756038126977,\n",
       " 25: 0.4312503712615714,\n",
       " 26: 0.10079613303743817,\n",
       " 27: 0.34106446435432436,\n",
       " 28: 0.28670738604459189,\n",
       " 29: 0.13693109760329969,\n",
       " 30: -0.027068253226619987,\n",
       " 31: -0.019432197102884352,\n",
       " 32: -79.384854919984789,\n",
       " 33: -0.99089662010579616,\n",
       " 34: 0.32946707408403453,\n",
       " 35: 0.20631853097278086,\n",
       " 36: -0.22238267752375493,\n",
       " 37: 0.1959781573815409,\n",
       " 38: 0.2583660262337143,\n",
       " 39: 0.17685077114735359,\n",
       " 40: 0.22136758912158794,\n",
       " 41: 0.20663669479301794,\n",
       " 42: -17.792802266461869,\n",
       " 43: 0.19282345313440441,\n",
       " 44: -0.33090233299390959,\n",
       " 45: 0.40307242433080548,\n",
       " 46: 0.41656974454794515,\n",
       " 47: 0.41445172473544611,\n",
       " 48: 0.43634812572574583,\n",
       " 49: 0.42028860056362644,\n",
       " 50: 0.40519082275397555,\n",
       " 51: 0.39184217206544736,\n",
       " 52: 0.39154138517336645,\n",
       " 53: 0.39134929582988431,\n",
       " 54: 0.39393621836999193,\n",
       " 55: 0.36457414278816791,\n",
       " 56: -0.013680699862514301,\n",
       " 57: -0.56120116323672642,\n",
       " 58: -4.8984160869922491,\n",
       " 59: -0.096985909815882287,\n",
       " 60: 0.72548307238501553,\n",
       " 61: 0.40850057764699832,\n",
       " 62: -1.6350438531440434,\n",
       " 63: 0.11396582538751222,\n",
       " 64: 0.43282542406050284,\n",
       " 65: 0.45553753629970867,\n",
       " 66: 0.42558556420318905,\n",
       " 67: 0.40698400593128703,\n",
       " 68: 0.35611752031792743,\n",
       " 69: 0.38106955267837189,\n",
       " 70: -4.1974124796409695,\n",
       " 71: -0.073925514254688407,\n",
       " 72: 0.3113570639075226,\n",
       " 73: 0.4281524312011073,\n",
       " 74: 0.47344201672485464,\n",
       " 75: 0.47091507968390761,\n",
       " 76: 0.45882116678218121,\n",
       " 77: -3.0842085961189145,\n",
       " 78: 0.47337849883191119,\n",
       " 79: 0.40669057978928774,\n",
       " 80: 0.41210912707880065,\n",
       " 81: 0.4459058024860677,\n",
       " 82: -1.6223456276794828,\n",
       " 83: -3.9825129073005554,\n",
       " 84: 0.94850434217955293,\n",
       " 85: 0.42071674489478406,\n",
       " 86: 0.51225020454268022,\n",
       " 87: 0.55133913672939305,\n",
       " 88: 0.58990821785839498,\n",
       " 89: 0.6040732540107947,\n",
       " 90: 0.54398302784265873,\n",
       " 91: 0.53545384021771747,\n",
       " 92: -9.9811059668123665,\n",
       " 93: -1.6160256508939792,\n",
       " 94: 0.56809298193730573,\n",
       " 95: 0.074680036361312596,\n",
       " 96: 0.48519241983758699,\n",
       " 97: 0.28144372068642243,\n",
       " 98: -3.7977591485160413,\n",
       " 99: -0.43210193835981836,\n",
       " 100: 0.72019296251148424,\n",
       " 101: 0.40152570740938975,\n",
       " 102: 0.32667451719813023,\n",
       " 103: 0.34172210858221719,\n",
       " 104: 0.34669685410527773,\n",
       " 105: 0.35330942241045227,\n",
       " 106: 0.36194039779972365,\n",
       " 107: 0.40672679246742593,\n",
       " 108: -9.0801488353297941,\n",
       " 109: 0.18360652897075957,\n",
       " 110: 0.25541273524576813,\n",
       " 111: -2.2364152643543629,\n",
       " 112: -31.743555539717811,\n",
       " 113: -0.076233586119535568,\n",
       " 114: 0.35354642435737232,\n",
       " 115: 0.41561973371268579,\n",
       " 116: 0.41847523124803832,\n",
       " 117: 0.46299637766653046,\n",
       " 118: -3.9646981219507507,\n",
       " 119: 0.59070620662809659,\n",
       " 120: 0.46185966035454207,\n",
       " 121: 0.36298265646988903,\n",
       " 122: 0.2746139584209556,\n",
       " 123: 0.051821040403543843,\n",
       " 124: 0.31644121867192165,\n",
       " 125: 0.41908987466283376,\n",
       " 126: 0.37956114440265898,\n",
       " 127: 0.38581637764620591,\n",
       " 128: 0.37889997866677005,\n",
       " 129: 0.43363679010995093,\n",
       " 130: 0.36969756116509844,\n",
       " 131: 0.35149278757579161,\n",
       " 132: -1.6571474771842336,\n",
       " 133: 0.42060598788269543,\n",
       " 134: -6.8063223480010606,\n",
       " 135: 0.99987138262256803,\n",
       " 136: 0.37629042368789101,\n",
       " 137: 0.31326469921048994,\n",
       " 138: 0.27600945821913958,\n",
       " 139: -0.69336942485947217,\n",
       " 140: -8.4654989540256302,\n",
       " 141: -13.180362079422142,\n",
       " 142: -4.1828901848421971,\n",
       " 143: 0.99295686955625029,\n",
       " 144: 0.3790948221645295,\n",
       " 145: 0.31003866440591699,\n",
       " 146: 0.30893363396217832,\n",
       " 147: 0.29851132426246385,\n",
       " 148: 0.23620515840773382,\n",
       " 149: 0.064197752494668636,\n",
       " 150: -0.38847402012425936,\n",
       " 151: 0.27340529333599473,\n",
       " 152: 0.306610592718219,\n",
       " 153: 0.28636224883007044,\n",
       " 154: 0.28792664446363547,\n",
       " 155: 0.28575105459585159,\n",
       " 156: 0.28218510290306109,\n",
       " 157: 0.25942227905359461,\n",
       " 158: -0.61605476618685917,\n",
       " 159: -0.085290680261343121,\n",
       " 160: 0.5617591824648831,\n",
       " 161: 0.35562645611962285,\n",
       " 162: 0.096077042357679665,\n",
       " 163: 0.11711348529777443,\n",
       " 164: 0.65119078298025324,\n",
       " 165: -2.3333078209778311,\n",
       " 166: 0.29059429847931928,\n",
       " 167: 0.30260242971428297,\n",
       " 168: 0.29255720720973477,\n",
       " 169: 0.20717950266320184,\n",
       " 170: 0.24865761874309689,\n",
       " 171: 0.21630317402941254,\n",
       " 172: -0.63256944369150925,\n",
       " 173: -1.5548576180378184,\n",
       " 174: -0.50934098140557915,\n",
       " 175: 0.30007031859385325,\n",
       " 176: 0.33137260131583812,\n",
       " 177: -364.63717373114866,\n",
       " 178: 0.25476499488081605,\n",
       " 179: 0.3096076475974715,\n",
       " 180: 0.31038997299835158,\n",
       " 181: 0.21721429238041634,\n",
       " 182: 0.21044745997669201,\n",
       " 183: 0.23958695842036215,\n",
       " 184: 0.26393156158614473,\n",
       " 185: 0.16168361706125522,\n",
       " 186: 0.18792387945509625,\n",
       " 187: -0.0028114563382661828,\n",
       " 188: 0.30162671060119461,\n",
       " 189: 0.4112365398392428,\n",
       " 190: 0.40214250806380991,\n",
       " 191: 0.39500975865955434,\n",
       " 192: 0.41165616040734687,\n",
       " 193: 0.3744576358479601,\n",
       " 194: 0.35617655093828782,\n",
       " 195: -0.2926593326199316,\n",
       " 196: -45.531313528112079,\n",
       " 197: 0.38159612237366614,\n",
       " 198: 0.35780340213177375,\n",
       " 199: 0.39371931884721173,\n",
       " 200: 0.35506639063064693,\n",
       " 201: -14.173033139841651,\n",
       " 202: -2.3884553555100347,\n",
       " 203: -35.850350715014507,\n",
       " 204: -1.8403838903886287,\n",
       " 205: 0.3650171401190998,\n",
       " 206: 0.36359165167081337,\n",
       " 207: 0.15219411809140726,\n",
       " 208: -0.095219922081450026,\n",
       " 209: -4.9921309313027962e-05,\n",
       " 210: 0.40954162141725092,\n",
       " 211: 0.33862711863274886,\n",
       " 212: 0.28381336187349571,\n",
       " 213: 0.43762813030211134,\n",
       " 214: 0.085003999502550012,\n",
       " 215: 0.31409586940841827,\n",
       " 216: 0.25184659234478757,\n",
       " 217: 0.3524932878079855,\n",
       " 218: 0.4484527441498784,\n",
       " 219: 0.44342001757714006,\n",
       " 220: 0.36840948615006464,\n",
       " 221: 0.2183102846171846,\n",
       " 222: 0.41867887932679593,\n",
       " 223: -0.27932179362283782,\n",
       " 224: -0.38172450111118666,\n",
       " 225: -2.3159440502019479,\n",
       " 226: 0.30503756405449245,\n",
       " 227: 0.13468358615010168,\n",
       " 228: 0.063489423335036821,\n",
       " 229: 0.22676438960705392,\n",
       " 230: 0.23026263782115067,\n",
       " 231: 0.23027218231902935,\n",
       " 232: 0.25899202509307617,\n",
       " 233: 0.26036137284186367,\n",
       " 234: 0.24707926616987597,\n",
       " 235: 0.28124843277408418,\n",
       " 236: 0.23136376138940917,\n",
       " 237: 0.21944168935342478,\n",
       " 238: 0.25963248947311801,\n",
       " 239: -1.2205163982217466,\n",
       " 240: -0.11532562907426236,\n",
       " 241: 0.54575726445267692,\n",
       " 242: 0.031545786436392609,\n",
       " 243: 0.19606853223063103,\n",
       " 244: -0.050511840012937625,\n",
       " 245: -0.18183050644912832,\n",
       " 246: -20.474784838566741,\n",
       " 247: 0.89521626901920448,\n",
       " 248: -2.3543079180708748}"
      ]
     },
     "execution_count": 47,
     "metadata": {},
     "output_type": "execute_result"
    }
   ],
   "source": [
    "dm"
   ]
  },
  {
   "cell_type": "code",
   "execution_count": null,
   "metadata": {},
   "outputs": [],
   "source": []
  },
  {
   "cell_type": "code",
   "execution_count": null,
   "metadata": {},
   "outputs": [],
   "source": []
  }
 ],
 "metadata": {
  "kernelspec": {
   "display_name": "Python 3",
   "language": "python",
   "name": "python3"
  },
  "language_info": {
   "codemirror_mode": {
    "name": "ipython",
    "version": 3
   },
   "file_extension": ".py",
   "mimetype": "text/x-python",
   "name": "python",
   "nbconvert_exporter": "python",
   "pygments_lexer": "ipython3",
   "version": "3.6.6"
  }
 },
 "nbformat": 4,
 "nbformat_minor": 2
}
