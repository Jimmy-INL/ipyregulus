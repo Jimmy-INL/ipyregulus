{
 "cells": [
  {
   "cell_type": "code",
   "execution_count": 101,
   "metadata": {},
   "outputs": [],
   "source": [
    "from regulus.utils import io\n",
    "from regulus.topo import * \n",
    "from regulus.alg import *\n",
    "from regulus.measures.linear import *\n",
    "from regulus.models import *\n",
    "from regulus.tree import *\n",
    "\n",
    "from ipyregulus import TreeWidget, TreeView\n",
    "from ipyregulus import SidePanel\n",
    "from ipywidgets import interact, interactive, FloatSlider"
   ]
  },
  {
   "cell_type": "code",
   "execution_count": 102,
   "metadata": {},
   "outputs": [],
   "source": [
    "gauss = io.load('data/gauss4.p')\n",
    "gauss.add_attr('linear', node_model(linear_model))\n",
    "gauss.add_attr('fitness', fitness)\n",
    "gauss.add_attr('relative_fitness', relative_fitness)\n",
    "gauss.tree.add_attr('parent_fitness', parent_fitness)\n",
    "gauss.tree.add_attr('child_fitness', child_fitness)"
   ]
  },
  {
   "cell_type": "code",
   "execution_count": 103,
   "metadata": {},
   "outputs": [],
   "source": [
    "t1 = gauss.tree"
   ]
  },
  {
   "cell_type": "code",
   "execution_count": 104,
   "metadata": {},
   "outputs": [],
   "source": [
    "w1 = TreeWidget(model=t1, select=lambda n: {\n",
    "    'start': n.data.persistence, \n",
    "    'len': n.data.size()/2000,\n",
    "    'range': n.parent.data.persistence - n.data.persistence,\n",
    "    'end': n.parent.data.persistence\n",
    "})"
   ]
  },
  {
   "cell_type": "code",
   "execution_count": 105,
   "metadata": {},
   "outputs": [
    {
     "name": "stdout",
     "output_type": "stream",
     "text": [
      "measure =  range\n"
     ]
    },
    {
     "data": {
      "application/vnd.jupyter.widget-view+json": {
       "model_id": "b679fb04a3384d8993be2b99e92f448f",
       "version_major": 2,
       "version_minor": 0
      },
      "text/plain": [
       "TreeView(field='range', title='First Tree', tree=TreeWidget(root=<regulus.tree.tree.Node object at 0x127e425f8…"
      ]
     },
     "metadata": {},
     "output_type": "display_data"
    }
   ],
   "source": [
    "tv1 = TreeView(title='First Tree', measure='range', tree=w1)\n",
    "tv1"
   ]
  },
  {
   "cell_type": "code",
   "execution_count": 106,
   "metadata": {},
   "outputs": [],
   "source": [
    "f_persistence = lambda t,n,v: persistence(n) > v"
   ]
  },
  {
   "cell_type": "code",
   "execution_count": 107,
   "metadata": {},
   "outputs": [],
   "source": [
    "def update(w, tree, func):\n",
    "    def _f(v):\n",
    "        w.model = reduce(tree, filter=lambda node: func(tree, node, v))\n",
    "    return _f"
   ]
  },
  {
   "cell_type": "code",
   "execution_count": 108,
   "metadata": {},
   "outputs": [],
   "source": [
    "sl1 = interactive(update(w1, t1, f_persistence), \n",
    "                 v=FloatSlider(description='persistence', min=0, max=1, step=0.01))"
   ]
  },
  {
   "cell_type": "code",
   "execution_count": 109,
   "metadata": {},
   "outputs": [],
   "source": [
    "sp1 = SidePanel(title='Panel 1')\n",
    "with sp1:\n",
    "    display(tv1, sl1)"
   ]
  },
  {
   "cell_type": "code",
   "execution_count": 110,
   "metadata": {},
   "outputs": [
    {
     "name": "stdout",
     "output_type": "stream",
     "text": [
      "measure =  fitness\n"
     ]
    }
   ],
   "source": [
    "tv1.measure = 'fitness'"
   ]
  },
  {
   "cell_type": "code",
   "execution_count": 111,
   "metadata": {},
   "outputs": [
    {
     "name": "stdout",
     "output_type": "stream",
     "text": [
      "measure =  parent_fitness\n"
     ]
    }
   ],
   "source": [
    "tv1.measure = 'parent_fitness'"
   ]
  },
  {
   "cell_type": "code",
   "execution_count": 112,
   "metadata": {},
   "outputs": [
    {
     "name": "stdout",
     "output_type": "stream",
     "text": [
      "measure =  child_fitness\n"
     ]
    }
   ],
   "source": [
    "tv1.measure = 'child_fitness'"
   ]
  },
  {
   "cell_type": "code",
   "execution_count": 113,
   "metadata": {},
   "outputs": [
    {
     "name": "stdout",
     "output_type": "stream",
     "text": [
      "measure =  end\n"
     ]
    }
   ],
   "source": [
    "tv1.measure = 'end'"
   ]
  },
  {
   "cell_type": "code",
   "execution_count": 114,
   "metadata": {},
   "outputs": [],
   "source": [
    "sl1.f = update(w1, t1, lambda t,n,v: t.attr['fitness'][n] >= v)"
   ]
  },
  {
   "cell_type": "code",
   "execution_count": 115,
   "metadata": {},
   "outputs": [],
   "source": [
    "t2 = reduce(gauss.tree, filter=lambda node: persistence(node)>0.2)\n",
    "w2 = TreeWidget(model=t2, select=lambda n: {\n",
    "    'start': n.data.persistence, \n",
    "    'len': n.data.size()/2000,\n",
    "    'range': n.parent.data.persistence - n.data.persistence,\n",
    "    'end': n.parent.data.persistence\n",
    "})"
   ]
  },
  {
   "cell_type": "code",
   "execution_count": 116,
   "metadata": {},
   "outputs": [
    {
     "name": "stdout",
     "output_type": "stream",
     "text": [
      "measure =  range\n"
     ]
    }
   ],
   "source": [
    "tv2 = TreeView(title='First Tree', measure='range', tree=w2)"
   ]
  },
  {
   "cell_type": "code",
   "execution_count": 117,
   "metadata": {},
   "outputs": [],
   "source": [
    "sp2 = SidePanel(title='Panel 2')\n",
    "with sp2:\n",
    "    display(tv2)"
   ]
  },
  {
   "cell_type": "code",
   "execution_count": 118,
   "metadata": {},
   "outputs": [],
   "source": [
    "sl2 = interactive(update(w2, t1, lambda t,n,v: t.attr['fitness'][n] > v), \n",
    "                 v=FloatSlider(description='fitness', value=0.2, min=0, max=1, step=0.01))"
   ]
  },
  {
   "cell_type": "code",
   "execution_count": 119,
   "metadata": {},
   "outputs": [],
   "source": [
    "with sp2:\n",
    "    display(sl2)"
   ]
  },
  {
   "cell_type": "code",
   "execution_count": 120,
   "metadata": {},
   "outputs": [
    {
     "name": "stdout",
     "output_type": "stream",
     "text": [
      "measure =  fitness\n"
     ]
    }
   ],
   "source": [
    "tv3 = TreeView(title='Test', measure='fitness', tree=w2)\n",
    "sp3 = SidePanel(title='Panel 3')\n",
    "with sp3:\n",
    "    display(tv3)"
   ]
  },
  {
   "cell_type": "code",
   "execution_count": 121,
   "metadata": {},
   "outputs": [
    {
     "name": "stdout",
     "output_type": "stream",
     "text": [
      "measure =  child_fitness\n"
     ]
    }
   ],
   "source": [
    "tv3.measure = 'child_fitness'"
   ]
  },
  {
   "cell_type": "code",
   "execution_count": 122,
   "metadata": {},
   "outputs": [
    {
     "name": "stdout",
     "output_type": "stream",
     "text": [
      "measure =  fitness\n"
     ]
    }
   ],
   "source": [
    "tv2.measure = 'fitness'"
   ]
  },
  {
   "cell_type": "code",
   "execution_count": 123,
   "metadata": {},
   "outputs": [],
   "source": [
    "sl2.f = update(w2, t1, lambda t,n,v: t.attr['child_fitness'][n] < v)"
   ]
  },
  {
   "cell_type": "code",
   "execution_count": 124,
   "metadata": {},
   "outputs": [],
   "source": [
    "sl2.children[0].description = 'child_fitness'"
   ]
  },
  {
   "cell_type": "code",
   "execution_count": null,
   "metadata": {},
   "outputs": [],
   "source": []
  }
 ],
 "metadata": {
  "kernelspec": {
   "display_name": "Python 3",
   "language": "python",
   "name": "python3"
  },
  "language_info": {
   "codemirror_mode": {
    "name": "ipython",
    "version": 3
   },
   "file_extension": ".py",
   "mimetype": "text/x-python",
   "name": "python",
   "nbconvert_exporter": "python",
   "pygments_lexer": "ipython3",
   "version": "3.6.6"
  }
 },
 "nbformat": 4,
 "nbformat_minor": 2
}
