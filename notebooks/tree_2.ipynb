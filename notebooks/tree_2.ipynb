{
 "cells": [
  {
   "cell_type": "code",
   "execution_count": 147,
   "metadata": {},
   "outputs": [],
   "source": [
    "from regulus.utils import io\n",
    "from regulus.topo import * \n",
    "from regulus.alg import *\n",
    "from regulus.measures.linear import *\n",
    "from regulus.models import *\n",
    "from regulus.tree import *\n",
    "\n",
    "from ipyregulus import TreeWidget, TreeView\n",
    "from ipyregulus import SidePanel\n",
    "from ipywidgets import interact, interactive, FloatSlider"
   ]
  },
  {
   "cell_type": "code",
   "execution_count": 148,
   "metadata": {},
   "outputs": [],
   "source": [
    "gauss = io.load('data/gauss4.p')"
   ]
  },
  {
   "cell_type": "code",
   "execution_count": 149,
   "metadata": {},
   "outputs": [],
   "source": [
    "t1 = gauss.tree\n",
    "w1 = TreeWidget(model=t1, select=lambda n: {\n",
    "    'start': n.data.persistence, \n",
    "    'size': n.data.size(),\n",
    "    'range': n.parent.data.persistence - n.data.persistence\n",
    "})"
   ]
  },
  {
   "cell_type": "code",
   "execution_count": 150,
   "metadata": {},
   "outputs": [
    {
     "data": {
      "application/vnd.jupyter.widget-view+json": {
       "model_id": "969ab71a398a4666a1828dd4cdd0f144",
       "version_major": 2,
       "version_minor": 0
      },
      "text/plain": [
       "TreeView(field='range', title='First Tree', tree=TreeWidget(root=<regulus.tree.tree.Node object at 0x116c966a0…"
      ]
     },
     "metadata": {},
     "output_type": "display_data"
    }
   ],
   "source": [
    "tv1 = TreeView(title='First Tree', measure='range', tree=w1)\n",
    "tv1"
   ]
  },
  {
   "cell_type": "code",
   "execution_count": 151,
   "metadata": {},
   "outputs": [],
   "source": [
    "gauss.attrs['linear'] = model_cache(linear_model)"
   ]
  },
  {
   "cell_type": "code",
   "execution_count": 152,
   "metadata": {},
   "outputs": [],
   "source": [
    "def persistence(n):\n",
    "    return n.parent.data.persistence - n.data.persistence"
   ]
  },
  {
   "cell_type": "code",
   "execution_count": 153,
   "metadata": {},
   "outputs": [],
   "source": [
    "f_persistence = lambda n,v: persistence(n) > v"
   ]
  },
  {
   "cell_type": "code",
   "execution_count": 154,
   "metadata": {},
   "outputs": [],
   "source": [
    "def update(f, v):\n",
    "    w1.model = reduce(t1, filter=lambda n: f(n, v))"
   ]
  },
  {
   "cell_type": "code",
   "execution_count": 155,
   "metadata": {},
   "outputs": [],
   "source": [
    "sl1 = interactive(lambda v: update(f_persistence, v), \n",
    "                 v=FloatSlider(description='persistence', min=0, max=1, step=0.01))"
   ]
  },
  {
   "cell_type": "code",
   "execution_count": 156,
   "metadata": {},
   "outputs": [],
   "source": [
    "sp1 = SidePanel(title='Panel 1')\n",
    "with sp1:\n",
    "    display(tv1, sl1)"
   ]
  },
  {
   "cell_type": "code",
   "execution_count": 47,
   "metadata": {},
   "outputs": [],
   "source": [
    "tv1.measure = 'range'"
   ]
  },
  {
   "cell_type": "code",
   "execution_count": null,
   "metadata": {},
   "outputs": [],
   "source": []
  }
 ],
 "metadata": {
  "kernelspec": {
   "display_name": "Python 3",
   "language": "python",
   "name": "python3"
  },
  "language_info": {
   "codemirror_mode": {
    "name": "ipython",
    "version": 3
   },
   "file_extension": ".py",
   "mimetype": "text/x-python",
   "name": "python",
   "nbconvert_exporter": "python",
   "pygments_lexer": "ipython3",
   "version": "3.6.6"
  }
 },
 "nbformat": 4,
 "nbformat_minor": 2
}
