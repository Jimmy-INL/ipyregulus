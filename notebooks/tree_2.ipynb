{
 "cells": [
  {
   "cell_type": "code",
   "execution_count": 105,
   "metadata": {},
   "outputs": [],
   "source": [
    "from regulus.utils import io\n",
    "from regulus.topo import * \n",
    "from regulus.alg import *\n",
    "from regulus.measures.linear import *\n",
    "from regulus.models import *\n",
    "from regulus.tree import *\n",
    "\n",
    "from ipyregulus import TreeWidget, TreeView\n",
    "from ipyregulus import SidePanel\n",
    "from ipywidgets import interact, interactive, FloatSlider"
   ]
  },
  {
   "cell_type": "code",
   "execution_count": 106,
   "metadata": {},
   "outputs": [],
   "source": [
    "gauss = io.load('data/gauss4.p')\n",
    "gauss.add_attr('linear', node_model(linear_model))\n",
    "gauss.add_attr('fitness', fitness)\n",
    "gauss.add_attr('relative_fitness', relative_fitness)\n",
    "gauss.tree.add_attr('parent_fitness', parent_fitness)\n",
    "gauss.tree.add_attr('child_fitness', child_fitness)"
   ]
  },
  {
   "cell_type": "code",
   "execution_count": 107,
   "metadata": {},
   "outputs": [],
   "source": [
    "t1 = gauss.tree\n",
    "w1 = TreeWidget(model=t1, select=lambda n: {\n",
    "    'start': n.data.persistence, \n",
    "    'len': n.data.size()/2000,\n",
    "    'range': n.parent.data.persistence - n.data.persistence,\n",
    "    'end': n.parent.data.persistence\n",
    "})"
   ]
  },
  {
   "cell_type": "code",
   "execution_count": 108,
   "metadata": {},
   "outputs": [
    {
     "data": {
      "application/vnd.jupyter.widget-view+json": {
       "model_id": "8e6b6305cc5e46cc9b00435d9564ef1f",
       "version_major": 2,
       "version_minor": 0
      },
      "text/plain": [
       "TreeView(field='range', title='First Tree', tree=TreeWidget(root=<regulus.tree.tree.Node object at 0x121b9b1d0…"
      ]
     },
     "metadata": {},
     "output_type": "display_data"
    }
   ],
   "source": [
    "tv1 = TreeView(title='First Tree', measure='range', tree=w1)\n",
    "tv1"
   ]
  },
  {
   "cell_type": "code",
   "execution_count": 109,
   "metadata": {},
   "outputs": [],
   "source": [
    "f_persistence = lambda t,n,v: persistence(n) > v"
   ]
  },
  {
   "cell_type": "code",
   "execution_count": 110,
   "metadata": {},
   "outputs": [],
   "source": [
    "def update(tree, func):\n",
    "    def _f(v):\n",
    "        w1.model = reduce(tree, filter=lambda node: func(tree, node, v))\n",
    "    return _f"
   ]
  },
  {
   "cell_type": "code",
   "execution_count": 111,
   "metadata": {},
   "outputs": [],
   "source": [
    "sl1 = interactive(update(t1, f_persistence), \n",
    "                 v=FloatSlider(description='persistence', min=0, max=1, step=0.01))"
   ]
  },
  {
   "cell_type": "code",
   "execution_count": 112,
   "metadata": {},
   "outputs": [],
   "source": [
    "sp1 = SidePanel(title='Panel 1')\n",
    "with sp1:\n",
    "    display(tv1, sl1)"
   ]
  },
  {
   "cell_type": "code",
   "execution_count": 118,
   "metadata": {},
   "outputs": [],
   "source": [
    "tv1.measure = 'fitness'"
   ]
  },
  {
   "cell_type": "code",
   "execution_count": 114,
   "metadata": {},
   "outputs": [],
   "source": [
    "tv1.measure = 'parent_fitness'"
   ]
  },
  {
   "cell_type": "code",
   "execution_count": 115,
   "metadata": {},
   "outputs": [],
   "source": [
    "tv1.measure = 'child_fitness'"
   ]
  },
  {
   "cell_type": "code",
   "execution_count": 116,
   "metadata": {},
   "outputs": [],
   "source": [
    "tv1.measure = 'end'"
   ]
  },
  {
   "cell_type": "code",
   "execution_count": 117,
   "metadata": {},
   "outputs": [],
   "source": [
    "sl1.f = update(t1, lambda t,n,v: t.attr['fitness'][n] >= v)"
   ]
  },
  {
   "cell_type": "code",
   "execution_count": 90,
   "metadata": {},
   "outputs": [
    {
     "name": "stdout",
     "output_type": "stream",
     "text": [
      " -1 0\n",
      ". 2 135\n",
      ".. 3 98\n",
      "... 4 63\n",
      ".... 6 13\n",
      "... 10 9\n",
      ".... 11 8\n",
      ".... 12 0\n",
      "... 13 12\n",
      ".. 16 1\n",
      ". 18 1206\n",
      ".. 19 1206\n",
      "... 23 76\n",
      ".... 24 44\n",
      "... 30 8\n",
      "... 32 0\n",
      "... 33 3\n",
      "... 42 1\n",
      "... 43 5\n",
      "... 45 1054\n",
      ".... 46 803\n",
      "..... 47 651\n",
      "...... 48 393\n",
      "....... 49 371\n",
      "........ 50 356\n",
      "......... 51 353\n",
      ".......... 52 352\n",
      "........... 53 349\n",
      "............ 55 54\n",
      ".......... 57 0\n",
      "......... 58 2\n",
      "........ 59 14\n",
      "......... 60 13\n",
      "......... 61 0\n",
      "......... 62 0\n",
      "....... 63 21\n",
      "...... 64 257\n",
      "....... 65 197\n",
      "........ 66 93\n",
      "......... 69 64\n",
      "......... 70 2\n",
      "......... 71 5\n",
      "......... 72 19\n",
      "........ 73 103\n",
      "......... 74 101\n",
      ".......... 75 44\n",
      "........... 76 41\n",
      "........... 77 2\n",
      ".......... 78 56\n",
      "........... 79 23\n",
      "........... 80 33\n",
      "............ 81 30\n",
      "............ 82 2\n",
      "......... 83 1\n",
      ".......... 84 1\n",
      "....... 85 59\n",
      "........ 86 55\n",
      "......... 87 48\n",
      ".......... 88 44\n",
      "........... 89 29\n",
      "............ 90 26\n",
      "............. 91 24\n",
      "............. 92 1\n",
      "............ 93 3\n",
      "........... 94 14\n",
      ".......... 95 3\n",
      "......... 98 1\n",
      "........ 99 4\n",
      "......... 100 4\n",
      "..... 106 116\n",
      "...... 107 115\n",
      "...... 108 0\n",
      "..... 109 5\n",
      "..... 112 1\n",
      ".... 115 251\n",
      "..... 116 105\n",
      "...... 117 39\n",
      "....... 118 1\n",
      "....... 119 38\n",
      "...... 120 65\n",
      "....... 123 7\n",
      "....... 124 24\n",
      "..... 128 75\n",
      "...... 129 73\n",
      "....... 132 1\n",
      "....... 133 50\n",
      "...... 134 1\n",
      "....... 135 1\n",
      "..... 138 58\n",
      "..... 140 0\n",
      "..... 141 1\n",
      "..... 142 0\n",
      "...... 143 0\n",
      ". 158 1\n",
      ". 159 13\n",
      ".. 160 6\n",
      ". 162 20\n",
      ". 163 15\n",
      ".. 164 14\n",
      ".. 165 0\n",
      ". 172 2\n",
      ". 173 2\n",
      ". 178 8\n",
      ". 185 25\n",
      ". 188 67\n",
      ".. 189 60\n",
      "... 190 53\n",
      ".... 191 32\n",
      "..... 195 2\n",
      "..... 196 0\n",
      "..... 198 18\n",
      "...... 201 1\n",
      "...... 202 4\n",
      "..... 203 1\n",
      "...... 204 1\n",
      ". 212 46\n",
      ".. 213 42\n",
      ".. 214 3\n",
      ". 217 89\n",
      ".. 218 75\n",
      "... 220 30\n",
      "... 222 35\n",
      ".. 223 10\n",
      ".. 224 2\n",
      ".. 225 1\n",
      ". 228 14\n",
      ". 240 2\n",
      ".. 241 2\n",
      ". 246 0\n",
      ".. 247 0\n",
      "... 248 0\n"
     ]
    }
   ],
   "source": [
    "for node, depth in traverse(w1.model.root, depth=True):\n",
    "    print('.'*depth,node.ref, node.data.size())"
   ]
  },
  {
   "cell_type": "code",
   "execution_count": null,
   "metadata": {},
   "outputs": [],
   "source": []
  }
 ],
 "metadata": {
  "kernelspec": {
   "display_name": "Python 3",
   "language": "python",
   "name": "python3"
  },
  "language_info": {
   "codemirror_mode": {
    "name": "ipython",
    "version": 3
   },
   "file_extension": ".py",
   "mimetype": "text/x-python",
   "name": "python",
   "nbconvert_exporter": "python",
   "pygments_lexer": "ipython3",
   "version": "3.6.6"
  }
 },
 "nbformat": 4,
 "nbformat_minor": 2
}
