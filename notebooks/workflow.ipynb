{
 "cells": [
  {
   "cell_type": "code",
   "execution_count": 1,
   "metadata": {},
   "outputs": [],
   "source": [
    "from ipywidgets import FloatSlider, ValueWidget\n",
    "import ipywidgets as widgets\n",
    "\n",
    "from sidepanel import SidePanel\n",
    "\n",
    "from regulus.utils import io\n",
    "from regulus.topo import * \n",
    "from regulus.alg import *\n",
    "from regulus.measures import *\n",
    "from regulus.models import *\n",
    "from regulus.tree import *\n",
    "\n",
    "from ipyregulus import TreeWidget, TreeView, DetailsView, DataWidget\n",
    "from ipyregulus.filters.filters import * \n",
    "from ipyregulus.filters.monitor import Monitor"
   ]
  },
  {
   "cell_type": "code",
   "execution_count": 2,
   "metadata": {},
   "outputs": [],
   "source": [
    "data = io.load('data/gauss4')\n",
    "# data = io.load('data/simulations')"
   ]
  },
  {
   "cell_type": "code",
   "execution_count": 3,
   "metadata": {},
   "outputs": [
    {
     "data": {
      "application/vnd.jupyter.widget-view+json": {
       "model_id": "531d3c63720d418c89574bb31acc4565",
       "version_major": 2,
       "version_minor": 0
      },
      "text/plain": [
       "Output()"
      ]
     },
     "metadata": {},
     "output_type": "display_data"
    }
   ],
   "source": [
    "from ipywidgets import Output\n",
    "debug = Output(title='debug')\n",
    "debug"
   ]
  },
  {
   "cell_type": "code",
   "execution_count": 10,
   "metadata": {},
   "outputs": [],
   "source": [
    "@debug.capture()\n",
    "class Monitor(Filter):\n",
    "    def __init__(self, monitor=None, **kwargs):\n",
    "        super().__init__(**kwargs)\n",
    "        self._monitored = []\n",
    "        self.monitor = monitor\n",
    "\n",
    "    def __call__(self, *args):\n",
    "        return self._disabled or self._func(self._monitored[0], *args)\n",
    "\n",
    "    @debug.capture()\n",
    "    def _exec(self, change):\n",
    "        print('exec', change)\n",
    "        self()\n",
    "\n",
    "    @property\n",
    "    def monitor(self):\n",
    "        return self._monitored\n",
    "\n",
    "    @monitor.setter\n",
    "    def monitor(self, obj):\n",
    "        for m in self._monitored:\n",
    "            # m.unregister(self._exec)\n",
    "            m.unobserve(self._exec, names='changed')\n",
    "        self._monitored = [obj] if not isinstance(obj, list) else obj\n",
    "        for m in self._monitored:\n",
    "            # m.register(self._exec)\n",
    "            m.observe(self._exec, names='changed')"
   ]
  },
  {
   "cell_type": "markdown",
   "metadata": {},
   "source": [
    "### Helper functions"
   ]
  },
  {
   "cell_type": "markdown",
   "metadata": {},
   "source": [
    "#### view"
   ]
  },
  {
   "cell_type": "code",
   "execution_count": 11,
   "metadata": {},
   "outputs": [],
   "source": [
    "def update_view(view):\n",
    "    def _inner(f):\n",
    "        view.show = filter_tree(view.tree, f)\n",
    "    return _inner "
   ]
  },
  {
   "cell_type": "code",
   "execution_count": 12,
   "metadata": {},
   "outputs": [],
   "source": [
    "def view(data, attr='span', func=lambda x, v: v <= x, title=''):\n",
    "    v = TreeView(data, attr=attr)\n",
    "    f = AttrFilter(attr=attr, func=func)\n",
    "    m = Monitor(f, func=update_view(v))\n",
    "    p = SidePanel(title=title)\n",
    "    with p:\n",
    "        display(v,f) \n",
    "    return v, f, p"
   ]
  },
  {
   "cell_type": "markdown",
   "metadata": {},
   "source": [
    "#### reduce"
   ]
  },
  {
   "cell_type": "code",
   "execution_count": 13,
   "metadata": {},
   "outputs": [],
   "source": [
    "def reduce_view(widget, tree):\n",
    "    def _inner(f):\n",
    "        widget.ref = reduce_tree(tree, filter=f)\n",
    "    return _inner"
   ]
  },
  {
   "cell_type": "code",
   "execution_count": 14,
   "metadata": {},
   "outputs": [],
   "source": [
    "def reduce(data, attr='span', func=lambda x, v: v <= x, title=''):\n",
    "    v = TreeView(data.tree, attr=attr)\n",
    "    f = AttrFilter(attr=attr, func=func)\n",
    "    m = Monitor(f, func=reduce_view(v, data.tree))\n",
    "    p = SidePanel(title=title)\n",
    "    with p:\n",
    "        display(v,f) \n",
    "    return v, f, p"
   ]
  },
  {
   "cell_type": "markdown",
   "metadata": {},
   "source": [
    "### Initial tree"
   ]
  },
  {
   "cell_type": "code",
   "execution_count": 15,
   "metadata": {},
   "outputs": [],
   "source": [
    "tw = TreeWidget(data.tree)"
   ]
  },
  {
   "cell_type": "code",
   "execution_count": 16,
   "metadata": {},
   "outputs": [],
   "source": [
    "v1, f1, p1 = view(tw, title='Initial Tree')"
   ]
  },
  {
   "cell_type": "code",
   "execution_count": 17,
   "metadata": {},
   "outputs": [],
   "source": [
    "v2, f2, p2 = view(tw, attr='fitness', title='fitness')"
   ]
  },
  {
   "cell_type": "code",
   "execution_count": 11,
   "metadata": {},
   "outputs": [],
   "source": [
    "f2.func = lambda x, v: v > x"
   ]
  },
  {
   "cell_type": "code",
   "execution_count": 12,
   "metadata": {},
   "outputs": [],
   "source": [
    "v2.attr = 'parent_fitness'"
   ]
  },
  {
   "cell_type": "code",
   "execution_count": 13,
   "metadata": {},
   "outputs": [],
   "source": [
    "f2.attr = 'span'\n",
    "f2.func = lambda x, v: v <=x"
   ]
  },
  {
   "cell_type": "code",
   "execution_count": 14,
   "metadata": {},
   "outputs": [],
   "source": []
  },
  {
   "cell_type": "markdown",
   "metadata": {},
   "source": [
    "### Reduce tree"
   ]
  },
  {
   "cell_type": "code",
   "execution_count": 29,
   "metadata": {},
   "outputs": [],
   "source": [
    "v3, r3, p3 = reduce(tw, attr='span', title='reduce')"
   ]
  },
  {
   "cell_type": "code",
   "execution_count": 31,
   "metadata": {},
   "outputs": [],
   "source": [
    "v3.attr = 'parent_fitness'"
   ]
  },
  {
   "cell_type": "markdown",
   "metadata": {},
   "source": [
    "### fitness"
   ]
  },
  {
   "cell_type": "markdown",
   "metadata": {},
   "source": [
    "#### test"
   ]
  },
  {
   "cell_type": "code",
   "execution_count": 15,
   "metadata": {},
   "outputs": [],
   "source": [
    "tw2 = TreeWidget(data.tree)"
   ]
  },
  {
   "cell_type": "code",
   "execution_count": 16,
   "metadata": {},
   "outputs": [],
   "source": [
    "f4 = AttrFilter(attr='span', func=lambda x, v: v <= x)"
   ]
  },
  {
   "cell_type": "code",
   "execution_count": 17,
   "metadata": {},
   "outputs": [],
   "source": [
    "def test(f):\n",
    "    tw2.ref = reduce_tree(tw.tree, filter=f)"
   ]
  },
  {
   "cell_type": "code",
   "execution_count": 18,
   "metadata": {},
   "outputs": [],
   "source": [
    "m4 = Monitor(f4, func=test)"
   ]
  },
  {
   "cell_type": "code",
   "execution_count": 19,
   "metadata": {},
   "outputs": [],
   "source": [
    "v4 = TreeView(tw2, attr='span') "
   ]
  },
  {
   "cell_type": "code",
   "execution_count": 20,
   "metadata": {},
   "outputs": [],
   "source": [
    "p4 = SidePanel(title='Test')\n",
    "with p4:\n",
    "    display(v4, f4)"
   ]
  },
  {
   "cell_type": "code",
   "execution_count": 21,
   "metadata": {},
   "outputs": [],
   "source": [
    "fitness = view(tw2, attr='fitness', title='fitness')"
   ]
  },
  {
   "cell_type": "code",
   "execution_count": 22,
   "metadata": {},
   "outputs": [],
   "source": [
    "parent_fitness = view(tw2, attr='parent_fitness', title='parent_fitness')"
   ]
  },
  {
   "cell_type": "markdown",
   "metadata": {},
   "source": [
    "### Data widget"
   ]
  },
  {
   "cell_type": "code",
   "execution_count": 25,
   "metadata": {},
   "outputs": [],
   "source": [
    "dw = DataWidget(data=data)"
   ]
  },
  {
   "cell_type": "code",
   "execution_count": 26,
   "metadata": {},
   "outputs": [],
   "source": [
    "details = DetailsView(data=dw)"
   ]
  },
  {
   "cell_type": "code",
   "execution_count": 27,
   "metadata": {},
   "outputs": [],
   "source": [
    "p7 = SidePanel(title='details')\n",
    "with p7:\n",
    "    display(details)"
   ]
  },
  {
   "cell_type": "code",
   "execution_count": 28,
   "metadata": {},
   "outputs": [
    {
     "data": {
      "text/plain": [
       "<traitlets.traitlets.directional_link at 0x110512be0>"
      ]
     },
     "execution_count": 28,
     "metadata": {},
     "output_type": "execute_result"
    }
   ],
   "source": [
    "widgets.dlink((fitness[0], 'details'), (details, 'show'))"
   ]
  },
  {
   "cell_type": "code",
   "execution_count": null,
   "metadata": {},
   "outputs": [],
   "source": []
  }
 ],
 "metadata": {
  "kernelspec": {
   "display_name": "Python 3",
   "language": "python",
   "name": "python3"
  },
  "language_info": {
   "codemirror_mode": {
    "name": "ipython",
    "version": 3
   },
   "file_extension": ".py",
   "mimetype": "text/x-python",
   "name": "python",
   "nbconvert_exporter": "python",
   "pygments_lexer": "ipython3",
   "version": "3.6.6"
  }
 },
 "nbformat": 4,
 "nbformat_minor": 2
}
