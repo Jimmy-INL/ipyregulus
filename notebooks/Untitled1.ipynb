{
 "cells": [
  {
   "cell_type": "code",
   "execution_count": 98,
   "metadata": {},
   "outputs": [],
   "source": [
    "from types import FunctionType, LambdaType\n",
    "\n",
    "def functor(obj):\n",
    "    return obj if callable(obj) else constFilter(obj)\n",
    "    \n",
    "def constFilter(value):\n",
    "    return lambda item: item == value\n",
    "\n",
    "def noop():\n",
    "    return lambda item: True\n",
    "\n",
    "def Not(f):\n",
    "    f = functor(f)\n",
    "    return lambda item: not f(item)\n",
    "\n",
    "class And(object):\n",
    "    def __init__(self, *args):\n",
    "        self.filters = []\n",
    "        self.add(*args)\n",
    "        \n",
    "    def add(self, *args):\n",
    "        self.filters.extend(map(functor, args))\n",
    "    \n",
    "    def remove(self, *args):\n",
    "        for f in args:\n",
    "            self.filters.remove(f)\n",
    "    \n",
    "    def __call__(self, item):\n",
    "        for f in self.filters:\n",
    "            if not f(item):\n",
    "                return False\n",
    "        return True\n",
    "    \n",
    "class Or(object):\n",
    "    def __init__(self, *args):\n",
    "        self.filters = []\n",
    "        self.add(*args)\n",
    "        \n",
    "    def add(self, *args):\n",
    "        self.filters.extend(map(functor, args))\n",
    "    \n",
    "    def remove(self, *args):\n",
    "        for f in args:\n",
    "            self.filters.remove(f)\n",
    "    \n",
    "    def __call__(self, item):\n",
    "        for f in self.filters:\n",
    "            if f(item):\n",
    "                return True\n",
    "        return False"
   ]
  },
  {
   "cell_type": "code",
   "execution_count": 84,
   "metadata": {},
   "outputs": [],
   "source": [
    "\n",
    "        "
   ]
  },
  {
   "cell_type": "code",
   "execution_count": 85,
   "metadata": {},
   "outputs": [],
   "source": [
    "a = And()"
   ]
  },
  {
   "cell_type": "code",
   "execution_count": 86,
   "metadata": {},
   "outputs": [],
   "source": [
    "def s(item):\n",
    "    print('s of ', item)\n",
    "    return item < 10"
   ]
  },
  {
   "cell_type": "code",
   "execution_count": 87,
   "metadata": {},
   "outputs": [],
   "source": [
    "a.add(s)"
   ]
  },
  {
   "cell_type": "code",
   "execution_count": 88,
   "metadata": {},
   "outputs": [
    {
     "name": "stdout",
     "output_type": "stream",
     "text": [
      "f <function s at 0x1069ba268>\n",
      "s of  7\n"
     ]
    },
    {
     "data": {
      "text/plain": [
       "True"
      ]
     },
     "execution_count": 88,
     "metadata": {},
     "output_type": "execute_result"
    }
   ],
   "source": [
    "a(7)"
   ]
  },
  {
   "cell_type": "code",
   "execution_count": 89,
   "metadata": {},
   "outputs": [],
   "source": [
    "a.add(lambda x: x > 3)"
   ]
  },
  {
   "cell_type": "code",
   "execution_count": 90,
   "metadata": {},
   "outputs": [
    {
     "name": "stdout",
     "output_type": "stream",
     "text": [
      "f <function s at 0x1069ba268>\n",
      "s of  6\n",
      "f <function <lambda> at 0x1069ba0d0>\n"
     ]
    },
    {
     "data": {
      "text/plain": [
       "True"
      ]
     },
     "execution_count": 90,
     "metadata": {},
     "output_type": "execute_result"
    }
   ],
   "source": [
    "a(6)"
   ]
  },
  {
   "cell_type": "code",
   "execution_count": 104,
   "metadata": {},
   "outputs": [],
   "source": [
    "o = Or(lambda x: x > 10, lambda x: x< 7, 8)"
   ]
  },
  {
   "cell_type": "code",
   "execution_count": 107,
   "metadata": {},
   "outputs": [
    {
     "name": "stdout",
     "output_type": "stream",
     "text": [
      "1 True\n",
      "10 False\n",
      "11 True\n",
      "17 True\n",
      "8 True\n"
     ]
    }
   ],
   "source": [
    "for i in [1, 10, 11, 17, 8]:\n",
    "    print(i, o(i))"
   ]
  },
  {
   "cell_type": "code",
   "execution_count": 108,
   "metadata": {},
   "outputs": [
    {
     "data": {
      "text/plain": [
       "__main__.Or"
      ]
     },
     "execution_count": 108,
     "metadata": {},
     "output_type": "execute_result"
    }
   ],
   "source": [
    "type(o)"
   ]
  },
  {
   "cell_type": "code",
   "execution_count": 109,
   "metadata": {},
   "outputs": [
    {
     "data": {
      "text/plain": [
       "True"
      ]
     },
     "execution_count": 109,
     "metadata": {},
     "output_type": "execute_result"
    }
   ],
   "source": [
    "callable(o)"
   ]
  },
  {
   "cell_type": "code",
   "execution_count": null,
   "metadata": {},
   "outputs": [],
   "source": []
  }
 ],
 "metadata": {
  "kernelspec": {
   "display_name": "Python 3",
   "language": "python",
   "name": "python3"
  },
  "language_info": {
   "codemirror_mode": {
    "name": "ipython",
    "version": 3
   },
   "file_extension": ".py",
   "mimetype": "text/x-python",
   "name": "python",
   "nbconvert_exporter": "python",
   "pygments_lexer": "ipython3",
   "version": "3.6.6"
  }
 },
 "nbformat": 4,
 "nbformat_minor": 2
}
